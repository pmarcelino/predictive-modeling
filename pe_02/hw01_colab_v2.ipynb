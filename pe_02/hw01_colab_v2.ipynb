{
  "cells": [
    {
      "cell_type": "markdown",
      "metadata": {},
      "source": [
        "# Homework 01: Square Function (Version 2)\n",
        "\n",
        "This notebook is designed to run in Google Colab with automated grading using Otter Grader's newer format.\n"
      ]
    },
    {
      "cell_type": "code",
      "execution_count": null,
      "metadata": {},
      "outputs": [],
      "source": [
        "# Install Otter Grader\n",
        "%pip install -q otter-grader\n"
      ]
    },
    {
      "cell_type": "code",
      "execution_count": null,
      "metadata": {},
      "outputs": [],
      "source": [
        "# Initialize Otter\n",
        "import otter\n",
        "grader = otter.Notebook()\n"
      ]
    },
    {
      "cell_type": "markdown",
      "metadata": {},
      "source": [
        "## Question 1: Square Function (2 points)\n",
        "\n",
        "Implement `square(x)` that returns x squared.\n"
      ]
    },
    {
      "cell_type": "code",
      "execution_count": null,
      "metadata": {},
      "outputs": [],
      "source": [
        "# BEGIN QUESTION\n",
        "name: q1\n",
        "points: 2\n",
        "\n",
        "def square(x: float) -> float:\n",
        "    \"\"\"Return the square of x.\n",
        "    \n",
        "    Args:\n",
        "        x: A number to square\n",
        "        \n",
        "    Returns:\n",
        "        The square of x\n",
        "    \"\"\"\n",
        "    # YOUR CODE HERE\n",
        "    raise NotImplementedError(\"Please implement the square function\")\n"
      ]
    },
    {
      "cell_type": "code",
      "execution_count": null,
      "metadata": {},
      "outputs": [],
      "source": [
        "# BEGIN TESTS\n",
        "assert square(2) == 4\n",
        "assert square(-3) == 9\n",
        "assert square(0) == 0\n",
        "# END TESTS\n"
      ]
    },
    {
      "cell_type": "code",
      "execution_count": null,
      "metadata": {},
      "outputs": [],
      "source": [
        "# BEGIN HIDDEN TESTS\n",
        "assert square(5.5) == 30.25\n",
        "assert square(-2.5) == 6.25\n",
        "# END HIDDEN TESTS\n"
      ]
    },
    {
      "cell_type": "code",
      "execution_count": null,
      "metadata": {},
      "outputs": [],
      "source": [
        "# Check your answer\n",
        "grader.check(\"q1\")\n"
      ]
    }
  ],
  "metadata": {
    "language_info": {
      "name": "python"
    }
  },
  "nbformat": 4,
  "nbformat_minor": 2
}
