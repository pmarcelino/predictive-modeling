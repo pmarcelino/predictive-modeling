{
  "cells": [
    {
      "cell_type": "markdown",
      "metadata": {},
      "source": [
        "# Homework 01: Square Function\n",
        "\n",
        "This notebook is designed to run in Google Colab with automated grading.\n"
      ]
    },
    {
      "cell_type": "code",
      "execution_count": null,
      "metadata": {},
      "outputs": [],
      "source": [
        "# Install Otter Grader\n",
        "%pip install -q otter-grader\n"
      ]
    },
    {
      "cell_type": "code",
      "execution_count": null,
      "metadata": {},
      "outputs": [],
      "source": [
        "# Create test files for Colab\n",
        "import os\n",
        "os.makedirs('tests', exist_ok=True)\n",
        "\n",
        "# Write test file for q1\n",
        "test_q1 = \"\"\"\\\"\\\"\\\"Test file for question 1: square function\\\"\\\"\\\"\n",
        "\n",
        "test = {\n",
        "    'name': 'q1',\n",
        "    'points': 2,\n",
        "    'suites': [\n",
        "        {\n",
        "            'cases': [\n",
        "                {\n",
        "                    'code': r\\\"\\\"\\\"\n",
        ">>> square(2)\n",
        "4\n",
        "\\\"\\\"\\\",\n",
        "                    'hidden': False,\n",
        "                    'locked': False\n",
        "                },\n",
        "                {\n",
        "                    'code': r\\\"\\\"\\\"\n",
        ">>> square(-3)\n",
        "9\n",
        "\\\"\\\"\\\",\n",
        "                    'hidden': False,\n",
        "                    'locked': False\n",
        "                },\n",
        "                {\n",
        "                    'code': r\\\"\\\"\\\"\n",
        ">>> square(0)\n",
        "0\n",
        "\\\"\\\"\\\",\n",
        "                    'hidden': False,\n",
        "                    'locked': False\n",
        "                },\n",
        "                {\n",
        "                    'code': r\\\"\\\"\\\"\n",
        ">>> square(5.5)\n",
        "30.25\n",
        "\\\"\\\"\\\",\n",
        "                    'hidden': True,\n",
        "                    'locked': False\n",
        "                },\n",
        "                {\n",
        "                    'code': r\\\"\\\"\\\"\n",
        ">>> square(-2.5)\n",
        "6.25\n",
        "\\\"\\\"\\\",\n",
        "                    'hidden': True,\n",
        "                    'locked': False\n",
        "                }\n",
        "            ],\n",
        "            'scored': True,\n",
        "            'setup': '',\n",
        "            'teardown': '',\n",
        "            'type': 'doctest'\n",
        "        }\n",
        "    ]\n",
        "}\"\"\"\n",
        "\n",
        "with open('tests/q1.py', 'w') as f:\n",
        "    f.write(test_q1)\n",
        "\n",
        "print(\"Test files created successfully!\")\n"
      ]
    },
    {
      "cell_type": "code",
      "execution_count": null,
      "metadata": {},
      "outputs": [],
      "source": [
        "# Initialize Otter\n",
        "import otter\n",
        "grader = otter.Notebook()\n"
      ]
    },
    {
      "cell_type": "markdown",
      "metadata": {},
      "source": [
        "## Question 1: Square Function (2 points)\n",
        "\n",
        "Implement `square(x)` that returns x squared.\n"
      ]
    },
    {
      "cell_type": "code",
      "execution_count": null,
      "metadata": {},
      "outputs": [],
      "source": [
        "def square(x: float) -> float:\n",
        "    \"\"\"Return the square of x.\n",
        "    \n",
        "    Args:\n",
        "        x: A number to square\n",
        "        \n",
        "    Returns:\n",
        "        The square of x\n",
        "    \"\"\"\n",
        "    # YOUR CODE HERE\n",
        "    raise NotImplementedError(\"Please implement the square function\")\n"
      ]
    },
    {
      "cell_type": "code",
      "execution_count": null,
      "metadata": {},
      "outputs": [],
      "source": [
        "# Check your answer (visible tests)\n",
        "grader.check(\"q1\")\n"
      ]
    },
    {
      "cell_type": "markdown",
      "metadata": {},
      "source": [
        "## Testing Your Solution\n",
        "\n",
        "You can test your solution with some examples:\n"
      ]
    },
    {
      "cell_type": "code",
      "execution_count": null,
      "metadata": {},
      "outputs": [],
      "source": [
        "# Test examples\n",
        "print(f\"square(2) = {square(2)}\")\n",
        "print(f\"square(-3) = {square(-3)}\")\n",
        "print(f\"square(0) = {square(0)}\")\n"
      ]
    },
    {
      "cell_type": "markdown",
      "metadata": {},
      "source": [
        "## Check All Questions\n",
        "\n",
        "Run the cell below to check all your answers at once:\n"
      ]
    },
    {
      "cell_type": "code",
      "execution_count": null,
      "metadata": {},
      "outputs": [],
      "source": [
        "# Check all questions\n",
        "grader.check_all()\n"
      ]
    },
    {
      "cell_type": "markdown",
      "metadata": {},
      "source": [
        "## Submission\n",
        "\n",
        "When you're ready to submit:\n",
        "\n",
        "1. Make sure you have run all cells in order\n",
        "2. Save this notebook\n",
        "3. Download the notebook file (.ipynb)\n",
        "4. Submit the notebook file to LearnWorlds\n",
        "\n",
        "For automatic grading, your instructor can run the following cell to get your score:\n"
      ]
    },
    {
      "cell_type": "code",
      "execution_count": null,
      "metadata": {},
      "outputs": [],
      "source": [
        "# Export grading results (for instructor use)\n",
        "# This generates a JSON file with your scores\n",
        "grader.export(pdf=False, force_save=True)\n"
      ]
    }
  ],
  "metadata": {
    "language_info": {
      "name": "python"
    }
  },
  "nbformat": 4,
  "nbformat_minor": 2
}
