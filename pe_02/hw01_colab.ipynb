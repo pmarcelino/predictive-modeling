{
  "cells": [
    {
      "cell_type": "markdown",
      "metadata": {},
      "source": [
        "# Homework 01: Square Function\n",
        "\n",
        "This notebook is designed to run in Google Colab with automated grading.\n"
      ]
    },
    {
      "cell_type": "code",
      "execution_count": null,
      "metadata": {},
      "outputs": [],
      "source": [
        "# Install Otter Grader\n",
        "%pip install -q otter-grader\n"
      ]
    },
    {
      "cell_type": "code",
      "execution_count": null,
      "metadata": {},
      "outputs": [],
      "source": [
        "# Setup test environment (do not modify this cell)\n",
        "import os\n",
        "import base64\n",
        "\n",
        "# Create tests directory\n",
        "os.makedirs('tests', exist_ok=True)\n",
        "\n",
        "# Encoded test data (hidden from students)\n",
        "encoded_test = \"IiIiVGVzdCBmaWxlIGZvciBxdWVzdGlvbiAxOiBzcXVhcmUgZnVuY3Rpb24iIiIKCk9LX0ZPUk1BVCA9IFRydWUKCnRlc3QgPSB7CiAgICAibmFtZSI6ICJxMSIsCiAgICAicG9pbnRzIjogMiwKICAgICJzdWl0ZXMiOiBbCiAgICAgICAgewogICAgICAgICAgICAiY2FzZXMiOiBbCiAgICAgICAgICAgICAgICB7CiAgICAgICAgICAgICAgICAgICAgImNvZGUiOiByIiIiCj4+PiBzcXVhcmUoMikKNAoiIiIsCiAgICAgICAgICAgICAgICAgICAgImhpZGRlbiI6IEZhbHNlLAogICAgICAgICAgICAgICAgICAgICJsb2NrZWQiOiBGYWxzZSwKICAgICAgICAgICAgICAgIH0sCiAgICAgICAgICAgICAgICB7CiAgICAgICAgICAgICAgICAgICAgImNvZGUiOiByIiIiCj4+PiBzcXVhcmUoLTMpCjkKIiIiLAogICAgICAgICAgICAgICAgICAgICJoaWRkZW4iOiBGYWxzZSwKICAgICAgICAgICAgICAgICAgICAibG9ja2VkIjogRmFsc2UsCiAgICAgICAgICAgICAgICB9LAogICAgICAgICAgICAgICAgewogICAgICAgICAgICAgICAgICAgICJjb2RlIjogciIiIgo+Pj4gc3F1YXJlKDApCjAKIiIiLAogICAgICAgICAgICAgICAgICAgICJoaWRkZW4iOiBGYWxzZSwKICAgICAgICAgICAgICAgICAgICAibG9ja2VkIjogRmFsc2UsCiAgICAgICAgICAgICAgICB9LAogICAgICAgICAgICAgICAgewogICAgICAgICAgICAgICAgICAgICJjb2RlIjogciIiIgo+Pj4gc3F1YXJlKDUuNSkKMzAuMjUKIiIiLAogICAgICAgICAgICAgICAgICAgICJoaWRkZW4iOiBUcnVlLAogICAgICAgICAgICAgICAgICAgICJsb2NrZWQiOiBGYWxzZSwKICAgICAgICAgICAgICAgIH0sCiAgICAgICAgICAgICAgICB7CiAgICAgICAgICAgICAgICAgICAgImNvZGUiOiByIiIiCj4+PiBzcXVhcmUoLTIuNSkKNi4yNQoiIiIsCiAgICAgICAgICAgICAgICAgICAgImhpZGRlbiI6IFRydWUsCiAgICAgICAgICAgICAgICAgICAgImxvY2tlZCI6IEZhbHNlLAogICAgICAgICAgICAgICAgfSwKICAgICAgICAgICAgXSwKICAgICAgICAgICAgInNjb3JlZCI6IFRydWUsCiAgICAgICAgICAgICJzZXR1cCI6ICIiLAogICAgICAgICAgICAidGVhcmRvd24iOiAiIiwKICAgICAgICAgICAgInR5cGUiOiAiZG9jdGVzdCIsCiAgICAgICAgfQogICAgXSwKfQ==\"\n",
        "\n",
        "# Decode and write test file\n",
        "test_content = base64.b64decode(encoded_test).decode('utf-8')\n",
        "with open('tests/q1.py', 'w') as f:\n",
        "    f.write(test_content)\n",
        "\n",
        "print(\"✅ Test environment ready!\")\n"
      ]
    },
    {
      "cell_type": "code",
      "execution_count": null,
      "metadata": {},
      "outputs": [],
      "source": [
        "# Initialize Otter\n",
        "import otter\n",
        "grader = otter.Notebook()\n"
      ]
    },
    {
      "cell_type": "markdown",
      "metadata": {},
      "source": [
        "## Question 1: Square Function (2 points)\n",
        "\n",
        "Implement `square(x)` that returns x squared.\n"
      ]
    },
    {
      "cell_type": "code",
      "execution_count": null,
      "metadata": {},
      "outputs": [],
      "source": [
        "def square(x: float) -> float:\n",
        "    \"\"\"Return the square of x.\n",
        "    \n",
        "    Args:\n",
        "        x: A number to square\n",
        "        \n",
        "    Returns:\n",
        "        The square of x\n",
        "    \"\"\"\n",
        "    # YOUR CODE HERE\n",
        "    raise NotImplementedError(\"Please implement the square function\")\n"
      ]
    },
    {
      "cell_type": "code",
      "execution_count": null,
      "metadata": {},
      "outputs": [],
      "source": [
        "# Check your answer (visible tests)\n",
        "grader.check(\"q1\")\n"
      ]
    },
    {
      "cell_type": "markdown",
      "metadata": {},
      "source": [
        "## Testing Your Solution\n",
        "\n",
        "You can test your solution by running the grader check below. \n",
        "\n",
        "**Note:** If you encounter any issues with the grader, try restarting the runtime and running all cells from the beginning.\n"
      ]
    },
    {
      "cell_type": "code",
      "execution_count": null,
      "metadata": {},
      "outputs": [],
      "source": [
        "# Test your implementation manually (optional)\n",
        "# You can run simple tests here to debug your solution\n",
        "# Example: print(square(2)) should output 4\n",
        "\n",
        "# Uncomment to test:\n",
        "# print(f\"square(2) = {square(2)}\")\n",
        "# print(f\"square(-3) = {square(-3)}\")\n",
        "# print(f\"square(0) = {square(0)}\")\n"
      ]
    },
    {
      "cell_type": "markdown",
      "metadata": {},
      "source": [
        "## Check All Questions\n",
        "\n",
        "Run the cell below to check all your answers at once:\n"
      ]
    },
    {
      "cell_type": "code",
      "execution_count": null,
      "metadata": {},
      "outputs": [],
      "source": [
        "# Check all questions\n",
        "grader.check_all()\n"
      ]
    },
    {
      "cell_type": "markdown",
      "metadata": {},
      "source": [
        "## Submission\n",
        "\n",
        "When you're ready to submit:\n",
        "\n",
        "1. Make sure you have run all cells in order\n",
        "2. Save this notebook\n",
        "3. Download the notebook file (.ipynb)\n",
        "4. Submit the notebook file to LearnWorlds\n",
        "\n",
        "For automatic grading, your instructor can run the following cell to get your score:\n"
      ]
    },
    {
      "cell_type": "code",
      "execution_count": null,
      "metadata": {},
      "outputs": [],
      "source": [
        "# Export grading results (for instructor use)\n",
        "# This generates a JSON file with your scores\n",
        "grader.export(pdf=False, force_save=True)\n"
      ]
    }
  ],
  "metadata": {
    "language_info": {
      "name": "python"
    }
  },
  "nbformat": 4,
  "nbformat_minor": 2
}
