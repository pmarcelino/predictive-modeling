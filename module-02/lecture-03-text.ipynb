{
 "cells": [
  {
   "cell_type": "markdown",
   "id": "eac724aa",
   "metadata": {},
   "source": [
    "# Lecture 3: Introduction to Pandas & Data Structures - Building Your Foundation"
   ]
  },
  {
   "cell_type": "markdown",
   "id": "0ceca3cb",
   "metadata": {},
   "source": [
    "## Learning Objectives\n",
    "\n",
    "By the end of this lecture, you will be able to:\n",
    "- Import and understand the pandas library for data manipulation\n",
    "- Work with pandas Series and DataFrame structures effectively\n",
    "- Load and inspect the Washington D.C. bike-sharing dataset\n",
    "- Understand basic data types and structures in Python data analysis\n",
    "- Apply fundamental pandas operations for data exploration\n",
    "\n",
    "---"
   ]
  },
  {
   "cell_type": "markdown",
   "id": "72c08200",
   "metadata": {},
   "source": [
    "## 1. Your Journey as a Data Consultant Begins\n",
    "\n",
    "Welcome to your first day as a junior data consultant! Your client, a growing bike-sharing startup, has asked you to help them understand their data and build better demand forecasting capabilities. Like any professional consultant, you need to start with the fundamentals - understanding your tools and your data.\n",
    "\n",
    "Think of this like learning to be a craftsperson. Before a carpenter builds a house, they master their tools: saws, hammers, measuring devices. Before a chef creates a restaurant menu, they understand ingredients, cooking techniques, and basic preparations. As a data consultant, your primary tools are programming languages and libraries - and pandas is the most essential tool for data work in Python.\n",
    "\n",
    "Today, you'll learn pandas not as an abstract programming concept, but as the foundation that will enable you to help your client make better business decisions. Every technique you master here will directly contribute to solving real transportation challenges."
   ]
  },
  {
   "cell_type": "markdown",
   "id": "8f4860b7",
   "metadata": {},
   "source": [
    "## 2. The Pandas Library: Your Data Manipulation Powerhouse"
   ]
  },
  {
   "cell_type": "markdown",
   "id": "00d6d250",
   "metadata": {},
   "source": [
    "### What is Pandas and Why Do You Need It?\n",
    "\n",
    "Pandas (Python Data Analysis Library) is like having a powerful Swiss Army knife for working with data. Just as a mechanic wouldn't try to fix a car with just their bare hands, you wouldn't want to analyze data without pandas. It provides the tools you need to load, clean, analyze, and manipulate data efficiently.\n",
    "\n",
    "For your bike-sharing client, this means pandas will help you:\n",
    "- Load their historical rental data from files\n",
    "- Clean and prepare messy real-world data\n",
    "- Calculate important business metrics like peak usage times\n",
    "- Identify patterns that will inform demand predictions\n",
    "- Transform raw operational data into actionable insights\n",
    "\n",
    "Think of pandas as your data laboratory - a place where raw information becomes valuable business intelligence."
   ]
  },
  {
   "cell_type": "markdown",
   "id": "9dde2ab1",
   "metadata": {},
   "source": [
    "### Understanding Your Data Toolkit Components\n",
    "\n",
    "Pandas provides two fundamental structures for organizing data, much like how a workshop has different types of containers for different purposes:\n",
    "\n",
    "**Series**: Like a single column of a spreadsheet or a list with labels. Perfect for storing one type of information (like all the temperatures recorded, or all the bike rental counts).\n",
    "\n",
    "**DataFrame**: Like a complete spreadsheet with rows and columns. This is where you'll store your full bike-sharing dataset with all variables together."
   ]
  },
  {
   "cell_type": "markdown",
   "id": "57a42bac",
   "metadata": {},
   "source": [
    "### Importing Pandas: Setting Up Your Workshop\n",
    "\n",
    "Before you can use any tool, you need to make it available in your workspace. In Python, this means importing pandas:"
   ]
  },
  {
   "cell_type": "code",
   "execution_count": 6,
   "id": "b2e263c7",
   "metadata": {},
   "outputs": [],
   "source": [
    "import pandas as pd"
   ]
  },
  {
   "cell_type": "markdown",
   "id": "b005921a",
   "metadata": {},
   "source": [
    "This simple line does several important things:\n",
    "- Makes all pandas functions available to use\n",
    "- Creates the shorthand `pd` so you don't have to type `pandas` every time\n",
    "- Follows the standard convention that all Python data analysts use\n",
    "\n",
    "The `as pd` part is like giving pandas a nickname that everyone in the data science community recognizes. When you see `pd.` in code, you immediately know you're working with pandas operations."
   ]
  },
  {
   "cell_type": "markdown",
   "id": "913a5c0c",
   "metadata": {},
   "source": [
    "## 3. Series: Your First Data Structure"
   ]
  },
  {
   "cell_type": "markdown",
   "id": "67f5c174",
   "metadata": {},
   "source": [
    "### Understanding Series Through Bike-Sharing Examples\n",
    "\n",
    "A Series is like a single column of data with labels for each value. Imagine you're tracking the number of bikes rented each hour during a typical Monday morning:"
   ]
  },
  {
   "cell_type": "code",
   "execution_count": 7,
   "id": "98225713",
   "metadata": {},
   "outputs": [
    {
     "name": "stdout",
     "output_type": "stream",
     "text": [
      "0     15\n",
      "1     23\n",
      "2     45\n",
      "3     67\n",
      "4     89\n",
      "5    156\n",
      "6    234\n",
      "7    287\n",
      "dtype: int64\n"
     ]
    }
   ],
   "source": [
    "hourly_rentals = pd.Series([15, 23, 45, 67, 89, 156, 234, 287])\n",
    "print(hourly_rentals)"
   ]
  },
  {
   "cell_type": "markdown",
   "id": "77d9f1bc",
   "metadata": {},
   "source": [
    "This creates a Series where:\n",
    "- The values (15, 23, 45, etc.) represent bike rentals for each hour\n",
    "- Each value gets an automatic index (0, 1, 2, etc.) like row numbers\n",
    "- You can think of the index as the \"label\" for each measurement"
   ]
  },
  {
   "cell_type": "markdown",
   "id": "ee268035",
   "metadata": {},
   "source": [
    "### Practical Series Creation for Transportation Data\n",
    "\n",
    "Let's create a more realistic example using actual time labels:"
   ]
  },
  {
   "cell_type": "code",
   "execution_count": 8,
   "id": "427cc366",
   "metadata": {},
   "outputs": [
    {
     "name": "stdout",
     "output_type": "stream",
     "text": [
      "6 AM      23\n",
      "7 AM      67\n",
      "8 AM     156\n",
      "9 AM      89\n",
      "10 AM     45\n",
      "dtype: int64\n"
     ]
    }
   ],
   "source": [
    "morning_hours = ['6 AM', '7 AM', '8 AM', '9 AM', '10 AM']\n",
    "morning_rentals = pd.Series([23, 67, 156, 89, 45], index=morning_hours)\n",
    "print(morning_rentals)"
   ]
  },
  {
   "cell_type": "markdown",
   "id": "8d2ad050",
   "metadata": {},
   "source": [
    "Now your Series has meaningful labels that make business sense. When you show this to your client, they can immediately understand that 8 AM has the highest rental count (156 bikes), which aligns with morning commute patterns."
   ]
  },
  {
   "cell_type": "markdown",
   "id": "e7205a0f",
   "metadata": {},
   "source": [
    "### Why Series Matter for Your Consulting Work\n",
    "\n",
    "Series are more than just lists - they're intelligent containers that:\n",
    "- Keep related information together (values and their meanings)\n",
    "- Enable mathematical operations (calculating averages, totals, trends)\n",
    "- Support easy filtering and selection (finding peak hours, low-demand periods)\n",
    "- Integrate seamlessly with business reporting tools\n",
    "\n",
    "For transportation consulting, Series help you organize time-based patterns, station-specific metrics, and categorical data like weather conditions or user types."
   ]
  },
  {
   "cell_type": "markdown",
   "id": "11281e69",
   "metadata": {},
   "source": [
    "## 4. DataFrame: Your Complete Data Laboratory"
   ]
  },
  {
   "cell_type": "markdown",
   "id": "7eb321c9",
   "metadata": {},
   "source": [
    "### Understanding DataFrames as Digital Spreadsheets\n",
    "\n",
    "If Series are like single columns, DataFrames are like complete spreadsheets with multiple columns and rows. For your bike-sharing client, a DataFrame would contain all the information about each rental period: time, weather, bike counts, user types, and more.\n",
    "\n",
    "Think of a DataFrame as a comprehensive record where each row represents one time period (like one hour) and each column represents one type of measurement (like temperature, humidity, bike count)."
   ]
  },
  {
   "cell_type": "markdown",
   "id": "ff5f635b",
   "metadata": {},
   "source": [
    "### Creating Your First Transportation DataFrame\n",
    "\n",
    "Let's build a small DataFrame that represents what your client's data looks like:"
   ]
  },
  {
   "cell_type": "code",
   "execution_count": 9,
   "id": "44b90c5b",
   "metadata": {},
   "outputs": [
    {
     "name": "stdout",
     "output_type": "stream",
     "text": [
      "   hour  temperature  rentals        weather\n",
      "0  6 AM           45       23          Clear\n",
      "1  7 AM           47       67          Clear\n",
      "2  8 AM           52      156  Partly Cloudy\n",
      "3  9 AM           55       89          Clear\n"
     ]
    }
   ],
   "source": [
    "bike_data = pd.DataFrame({\n",
    "    'hour': ['6 AM', '7 AM', '8 AM', '9 AM'],\n",
    "    'temperature': [45, 47, 52, 55],\n",
    "    'rentals': [23, 67, 156, 89],\n",
    "    'weather': ['Clear', 'Clear', 'Partly Cloudy', 'Clear']\n",
    "})\n",
    "print(bike_data)"
   ]
  },
  {
   "cell_type": "markdown",
   "id": "8aaa33dd",
   "metadata": {},
   "source": [
    "This creates a structured table where:\n",
    "- Each row represents one hour of operations\n",
    "- Each column represents one type of measurement\n",
    "- The data types can be mixed (text, numbers) within the same DataFrame\n",
    "- All related information stays connected"
   ]
  },
  {
   "cell_type": "markdown",
   "id": "6e78fd80",
   "metadata": {},
   "source": [
    "### DataFrame Components and Business Value\n",
    "\n",
    "Every DataFrame has key components that make it powerful for business analysis:\n",
    "\n",
    "**Columns**: Each variable you're tracking (temperature, rentals, weather conditions). These become the factors you'll analyze to understand demand patterns.\n",
    "\n",
    "**Rows**: Each observation or time period. In transportation, this is usually time-based (hourly, daily) but could be trip-based or station-based.\n",
    "\n",
    "**Index**: The row identifiers. By default, these are numbers (0, 1, 2), but you can use dates, station IDs, or other meaningful identifiers.\n",
    "\n",
    "**Values**: The actual data inside the table. This is the business information you'll analyze to generate insights and predictions."
   ]
  },
  {
   "cell_type": "markdown",
   "id": "f728f078",
   "metadata": {},
   "source": [
    "### Advanced DataFrame Understanding for Professional Work\n",
    "\n",
    "DataFrames are not just storage containers - they're analysis platforms. When you create a DataFrame for your client's bike-sharing data, you're creating a foundation for:\n",
    "\n",
    "**Trend Analysis**: Comparing bike rentals across different time periods to identify peak and off-peak patterns that inform station stocking decisions.\n",
    "\n",
    "**Correlation Discovery**: Understanding relationships between weather conditions and demand to improve demand forecasting accuracy.\n",
    "\n",
    "**Operational Insights**: Identifying patterns that help optimize bike redistribution, maintenance scheduling, and capacity planning.\n",
    "\n",
    "**Business Reporting**: Creating summaries and visualizations that communicate findings to non-technical stakeholders in your client's organization."
   ]
  },
  {
   "cell_type": "markdown",
   "id": "c356b713",
   "metadata": {},
   "source": [
    "## 5. Loading Real-World Data: Working with the Washington D.C. Dataset"
   ]
  },
  {
   "cell_type": "markdown",
   "id": "634336c0",
   "metadata": {},
   "source": [
    "### Understanding Your Client's Data Source\n",
    "\n",
    "Your bike-sharing startup client has provided you with historical data from the Washington D.C. bike-sharing system. This real-world dataset contains all the complexities you'll encounter in professional consulting: multiple variables, different data types, time series information, and the messiness of actual operations.\n",
    "\n",
    "The dataset includes:\n",
    "- **Temporal Information**: Date and time of each rental period\n",
    "- **Weather Data**: Temperature, humidity, wind speed, and weather conditions\n",
    "- **Usage Metrics**: Casual users, registered users, and total counts\n",
    "- **Operational Context**: Holiday indicators, working day flags, and seasonal information"
   ]
  },
  {
   "cell_type": "markdown",
   "id": "84d97cdf",
   "metadata": {},
   "source": [
    "### The Data Loading Process\n",
    "\n",
    "Loading data from files is a fundamental consulting skill. Your client's data is stored in CSV (Comma-Separated Values) format, which is the standard for sharing tabular data between systems:"
   ]
  },
  {
   "cell_type": "code",
   "execution_count": 10,
   "id": "8418fa7a",
   "metadata": {},
   "outputs": [
    {
     "ename": "FileNotFoundError",
     "evalue": "[Errno 2] No such file or directory: 'references/datasets/washington/dataset.csv'",
     "output_type": "error",
     "traceback": [
      "\u001b[0;31m---------------------------------------------------------------------------\u001b[0m",
      "\u001b[0;31mFileNotFoundError\u001b[0m                         Traceback (most recent call last)",
      "Cell \u001b[0;32mIn[10], line 5\u001b[0m\n\u001b[1;32m      2\u001b[0m data_path \u001b[38;5;241m=\u001b[39m \u001b[38;5;124m\"\u001b[39m\u001b[38;5;124mreferences/datasets/washington/dataset.csv\u001b[39m\u001b[38;5;124m\"\u001b[39m\n\u001b[1;32m      4\u001b[0m \u001b[38;5;66;03m# Load the data into a DataFrame\u001b[39;00m\n\u001b[0;32m----> 5\u001b[0m df \u001b[38;5;241m=\u001b[39m \u001b[43mpd\u001b[49m\u001b[38;5;241;43m.\u001b[39;49m\u001b[43mread_csv\u001b[49m\u001b[43m(\u001b[49m\u001b[43mdata_path\u001b[49m\u001b[43m)\u001b[49m\n\u001b[1;32m      7\u001b[0m \u001b[38;5;66;03m# Display basic information about your dataset\u001b[39;00m\n\u001b[1;32m      8\u001b[0m \u001b[38;5;28mprint\u001b[39m(df\u001b[38;5;241m.\u001b[39mhead())\n",
      "File \u001b[0;32m~/Documents/aim4mobility/prediction/venv/lib/python3.10/site-packages/pandas/io/parsers/readers.py:1026\u001b[0m, in \u001b[0;36mread_csv\u001b[0;34m(filepath_or_buffer, sep, delimiter, header, names, index_col, usecols, dtype, engine, converters, true_values, false_values, skipinitialspace, skiprows, skipfooter, nrows, na_values, keep_default_na, na_filter, verbose, skip_blank_lines, parse_dates, infer_datetime_format, keep_date_col, date_parser, date_format, dayfirst, cache_dates, iterator, chunksize, compression, thousands, decimal, lineterminator, quotechar, quoting, doublequote, escapechar, comment, encoding, encoding_errors, dialect, on_bad_lines, delim_whitespace, low_memory, memory_map, float_precision, storage_options, dtype_backend)\u001b[0m\n\u001b[1;32m   1013\u001b[0m kwds_defaults \u001b[38;5;241m=\u001b[39m _refine_defaults_read(\n\u001b[1;32m   1014\u001b[0m     dialect,\n\u001b[1;32m   1015\u001b[0m     delimiter,\n\u001b[0;32m   (...)\u001b[0m\n\u001b[1;32m   1022\u001b[0m     dtype_backend\u001b[38;5;241m=\u001b[39mdtype_backend,\n\u001b[1;32m   1023\u001b[0m )\n\u001b[1;32m   1024\u001b[0m kwds\u001b[38;5;241m.\u001b[39mupdate(kwds_defaults)\n\u001b[0;32m-> 1026\u001b[0m \u001b[38;5;28;01mreturn\u001b[39;00m \u001b[43m_read\u001b[49m\u001b[43m(\u001b[49m\u001b[43mfilepath_or_buffer\u001b[49m\u001b[43m,\u001b[49m\u001b[43m \u001b[49m\u001b[43mkwds\u001b[49m\u001b[43m)\u001b[49m\n",
      "File \u001b[0;32m~/Documents/aim4mobility/prediction/venv/lib/python3.10/site-packages/pandas/io/parsers/readers.py:620\u001b[0m, in \u001b[0;36m_read\u001b[0;34m(filepath_or_buffer, kwds)\u001b[0m\n\u001b[1;32m    617\u001b[0m _validate_names(kwds\u001b[38;5;241m.\u001b[39mget(\u001b[38;5;124m\"\u001b[39m\u001b[38;5;124mnames\u001b[39m\u001b[38;5;124m\"\u001b[39m, \u001b[38;5;28;01mNone\u001b[39;00m))\n\u001b[1;32m    619\u001b[0m \u001b[38;5;66;03m# Create the parser.\u001b[39;00m\n\u001b[0;32m--> 620\u001b[0m parser \u001b[38;5;241m=\u001b[39m \u001b[43mTextFileReader\u001b[49m\u001b[43m(\u001b[49m\u001b[43mfilepath_or_buffer\u001b[49m\u001b[43m,\u001b[49m\u001b[43m \u001b[49m\u001b[38;5;241;43m*\u001b[39;49m\u001b[38;5;241;43m*\u001b[39;49m\u001b[43mkwds\u001b[49m\u001b[43m)\u001b[49m\n\u001b[1;32m    622\u001b[0m \u001b[38;5;28;01mif\u001b[39;00m chunksize \u001b[38;5;129;01mor\u001b[39;00m iterator:\n\u001b[1;32m    623\u001b[0m     \u001b[38;5;28;01mreturn\u001b[39;00m parser\n",
      "File \u001b[0;32m~/Documents/aim4mobility/prediction/venv/lib/python3.10/site-packages/pandas/io/parsers/readers.py:1620\u001b[0m, in \u001b[0;36mTextFileReader.__init__\u001b[0;34m(self, f, engine, **kwds)\u001b[0m\n\u001b[1;32m   1617\u001b[0m     \u001b[38;5;28mself\u001b[39m\u001b[38;5;241m.\u001b[39moptions[\u001b[38;5;124m\"\u001b[39m\u001b[38;5;124mhas_index_names\u001b[39m\u001b[38;5;124m\"\u001b[39m] \u001b[38;5;241m=\u001b[39m kwds[\u001b[38;5;124m\"\u001b[39m\u001b[38;5;124mhas_index_names\u001b[39m\u001b[38;5;124m\"\u001b[39m]\n\u001b[1;32m   1619\u001b[0m \u001b[38;5;28mself\u001b[39m\u001b[38;5;241m.\u001b[39mhandles: IOHandles \u001b[38;5;241m|\u001b[39m \u001b[38;5;28;01mNone\u001b[39;00m \u001b[38;5;241m=\u001b[39m \u001b[38;5;28;01mNone\u001b[39;00m\n\u001b[0;32m-> 1620\u001b[0m \u001b[38;5;28mself\u001b[39m\u001b[38;5;241m.\u001b[39m_engine \u001b[38;5;241m=\u001b[39m \u001b[38;5;28;43mself\u001b[39;49m\u001b[38;5;241;43m.\u001b[39;49m\u001b[43m_make_engine\u001b[49m\u001b[43m(\u001b[49m\u001b[43mf\u001b[49m\u001b[43m,\u001b[49m\u001b[43m \u001b[49m\u001b[38;5;28;43mself\u001b[39;49m\u001b[38;5;241;43m.\u001b[39;49m\u001b[43mengine\u001b[49m\u001b[43m)\u001b[49m\n",
      "File \u001b[0;32m~/Documents/aim4mobility/prediction/venv/lib/python3.10/site-packages/pandas/io/parsers/readers.py:1880\u001b[0m, in \u001b[0;36mTextFileReader._make_engine\u001b[0;34m(self, f, engine)\u001b[0m\n\u001b[1;32m   1878\u001b[0m     \u001b[38;5;28;01mif\u001b[39;00m \u001b[38;5;124m\"\u001b[39m\u001b[38;5;124mb\u001b[39m\u001b[38;5;124m\"\u001b[39m \u001b[38;5;129;01mnot\u001b[39;00m \u001b[38;5;129;01min\u001b[39;00m mode:\n\u001b[1;32m   1879\u001b[0m         mode \u001b[38;5;241m+\u001b[39m\u001b[38;5;241m=\u001b[39m \u001b[38;5;124m\"\u001b[39m\u001b[38;5;124mb\u001b[39m\u001b[38;5;124m\"\u001b[39m\n\u001b[0;32m-> 1880\u001b[0m \u001b[38;5;28mself\u001b[39m\u001b[38;5;241m.\u001b[39mhandles \u001b[38;5;241m=\u001b[39m \u001b[43mget_handle\u001b[49m\u001b[43m(\u001b[49m\n\u001b[1;32m   1881\u001b[0m \u001b[43m    \u001b[49m\u001b[43mf\u001b[49m\u001b[43m,\u001b[49m\n\u001b[1;32m   1882\u001b[0m \u001b[43m    \u001b[49m\u001b[43mmode\u001b[49m\u001b[43m,\u001b[49m\n\u001b[1;32m   1883\u001b[0m \u001b[43m    \u001b[49m\u001b[43mencoding\u001b[49m\u001b[38;5;241;43m=\u001b[39;49m\u001b[38;5;28;43mself\u001b[39;49m\u001b[38;5;241;43m.\u001b[39;49m\u001b[43moptions\u001b[49m\u001b[38;5;241;43m.\u001b[39;49m\u001b[43mget\u001b[49m\u001b[43m(\u001b[49m\u001b[38;5;124;43m\"\u001b[39;49m\u001b[38;5;124;43mencoding\u001b[39;49m\u001b[38;5;124;43m\"\u001b[39;49m\u001b[43m,\u001b[49m\u001b[43m \u001b[49m\u001b[38;5;28;43;01mNone\u001b[39;49;00m\u001b[43m)\u001b[49m\u001b[43m,\u001b[49m\n\u001b[1;32m   1884\u001b[0m \u001b[43m    \u001b[49m\u001b[43mcompression\u001b[49m\u001b[38;5;241;43m=\u001b[39;49m\u001b[38;5;28;43mself\u001b[39;49m\u001b[38;5;241;43m.\u001b[39;49m\u001b[43moptions\u001b[49m\u001b[38;5;241;43m.\u001b[39;49m\u001b[43mget\u001b[49m\u001b[43m(\u001b[49m\u001b[38;5;124;43m\"\u001b[39;49m\u001b[38;5;124;43mcompression\u001b[39;49m\u001b[38;5;124;43m\"\u001b[39;49m\u001b[43m,\u001b[49m\u001b[43m \u001b[49m\u001b[38;5;28;43;01mNone\u001b[39;49;00m\u001b[43m)\u001b[49m\u001b[43m,\u001b[49m\n\u001b[1;32m   1885\u001b[0m \u001b[43m    \u001b[49m\u001b[43mmemory_map\u001b[49m\u001b[38;5;241;43m=\u001b[39;49m\u001b[38;5;28;43mself\u001b[39;49m\u001b[38;5;241;43m.\u001b[39;49m\u001b[43moptions\u001b[49m\u001b[38;5;241;43m.\u001b[39;49m\u001b[43mget\u001b[49m\u001b[43m(\u001b[49m\u001b[38;5;124;43m\"\u001b[39;49m\u001b[38;5;124;43mmemory_map\u001b[39;49m\u001b[38;5;124;43m\"\u001b[39;49m\u001b[43m,\u001b[49m\u001b[43m \u001b[49m\u001b[38;5;28;43;01mFalse\u001b[39;49;00m\u001b[43m)\u001b[49m\u001b[43m,\u001b[49m\n\u001b[1;32m   1886\u001b[0m \u001b[43m    \u001b[49m\u001b[43mis_text\u001b[49m\u001b[38;5;241;43m=\u001b[39;49m\u001b[43mis_text\u001b[49m\u001b[43m,\u001b[49m\n\u001b[1;32m   1887\u001b[0m \u001b[43m    \u001b[49m\u001b[43merrors\u001b[49m\u001b[38;5;241;43m=\u001b[39;49m\u001b[38;5;28;43mself\u001b[39;49m\u001b[38;5;241;43m.\u001b[39;49m\u001b[43moptions\u001b[49m\u001b[38;5;241;43m.\u001b[39;49m\u001b[43mget\u001b[49m\u001b[43m(\u001b[49m\u001b[38;5;124;43m\"\u001b[39;49m\u001b[38;5;124;43mencoding_errors\u001b[39;49m\u001b[38;5;124;43m\"\u001b[39;49m\u001b[43m,\u001b[49m\u001b[43m \u001b[49m\u001b[38;5;124;43m\"\u001b[39;49m\u001b[38;5;124;43mstrict\u001b[39;49m\u001b[38;5;124;43m\"\u001b[39;49m\u001b[43m)\u001b[49m\u001b[43m,\u001b[49m\n\u001b[1;32m   1888\u001b[0m \u001b[43m    \u001b[49m\u001b[43mstorage_options\u001b[49m\u001b[38;5;241;43m=\u001b[39;49m\u001b[38;5;28;43mself\u001b[39;49m\u001b[38;5;241;43m.\u001b[39;49m\u001b[43moptions\u001b[49m\u001b[38;5;241;43m.\u001b[39;49m\u001b[43mget\u001b[49m\u001b[43m(\u001b[49m\u001b[38;5;124;43m\"\u001b[39;49m\u001b[38;5;124;43mstorage_options\u001b[39;49m\u001b[38;5;124;43m\"\u001b[39;49m\u001b[43m,\u001b[49m\u001b[43m \u001b[49m\u001b[38;5;28;43;01mNone\u001b[39;49;00m\u001b[43m)\u001b[49m\u001b[43m,\u001b[49m\n\u001b[1;32m   1889\u001b[0m \u001b[43m\u001b[49m\u001b[43m)\u001b[49m\n\u001b[1;32m   1890\u001b[0m \u001b[38;5;28;01massert\u001b[39;00m \u001b[38;5;28mself\u001b[39m\u001b[38;5;241m.\u001b[39mhandles \u001b[38;5;129;01mis\u001b[39;00m \u001b[38;5;129;01mnot\u001b[39;00m \u001b[38;5;28;01mNone\u001b[39;00m\n\u001b[1;32m   1891\u001b[0m f \u001b[38;5;241m=\u001b[39m \u001b[38;5;28mself\u001b[39m\u001b[38;5;241m.\u001b[39mhandles\u001b[38;5;241m.\u001b[39mhandle\n",
      "File \u001b[0;32m~/Documents/aim4mobility/prediction/venv/lib/python3.10/site-packages/pandas/io/common.py:873\u001b[0m, in \u001b[0;36mget_handle\u001b[0;34m(path_or_buf, mode, encoding, compression, memory_map, is_text, errors, storage_options)\u001b[0m\n\u001b[1;32m    868\u001b[0m \u001b[38;5;28;01melif\u001b[39;00m \u001b[38;5;28misinstance\u001b[39m(handle, \u001b[38;5;28mstr\u001b[39m):\n\u001b[1;32m    869\u001b[0m     \u001b[38;5;66;03m# Check whether the filename is to be opened in binary mode.\u001b[39;00m\n\u001b[1;32m    870\u001b[0m     \u001b[38;5;66;03m# Binary mode does not support 'encoding' and 'newline'.\u001b[39;00m\n\u001b[1;32m    871\u001b[0m     \u001b[38;5;28;01mif\u001b[39;00m ioargs\u001b[38;5;241m.\u001b[39mencoding \u001b[38;5;129;01mand\u001b[39;00m \u001b[38;5;124m\"\u001b[39m\u001b[38;5;124mb\u001b[39m\u001b[38;5;124m\"\u001b[39m \u001b[38;5;129;01mnot\u001b[39;00m \u001b[38;5;129;01min\u001b[39;00m ioargs\u001b[38;5;241m.\u001b[39mmode:\n\u001b[1;32m    872\u001b[0m         \u001b[38;5;66;03m# Encoding\u001b[39;00m\n\u001b[0;32m--> 873\u001b[0m         handle \u001b[38;5;241m=\u001b[39m \u001b[38;5;28;43mopen\u001b[39;49m\u001b[43m(\u001b[49m\n\u001b[1;32m    874\u001b[0m \u001b[43m            \u001b[49m\u001b[43mhandle\u001b[49m\u001b[43m,\u001b[49m\n\u001b[1;32m    875\u001b[0m \u001b[43m            \u001b[49m\u001b[43mioargs\u001b[49m\u001b[38;5;241;43m.\u001b[39;49m\u001b[43mmode\u001b[49m\u001b[43m,\u001b[49m\n\u001b[1;32m    876\u001b[0m \u001b[43m            \u001b[49m\u001b[43mencoding\u001b[49m\u001b[38;5;241;43m=\u001b[39;49m\u001b[43mioargs\u001b[49m\u001b[38;5;241;43m.\u001b[39;49m\u001b[43mencoding\u001b[49m\u001b[43m,\u001b[49m\n\u001b[1;32m    877\u001b[0m \u001b[43m            \u001b[49m\u001b[43merrors\u001b[49m\u001b[38;5;241;43m=\u001b[39;49m\u001b[43merrors\u001b[49m\u001b[43m,\u001b[49m\n\u001b[1;32m    878\u001b[0m \u001b[43m            \u001b[49m\u001b[43mnewline\u001b[49m\u001b[38;5;241;43m=\u001b[39;49m\u001b[38;5;124;43m\"\u001b[39;49m\u001b[38;5;124;43m\"\u001b[39;49m\u001b[43m,\u001b[49m\n\u001b[1;32m    879\u001b[0m \u001b[43m        \u001b[49m\u001b[43m)\u001b[49m\n\u001b[1;32m    880\u001b[0m     \u001b[38;5;28;01melse\u001b[39;00m:\n\u001b[1;32m    881\u001b[0m         \u001b[38;5;66;03m# Binary mode\u001b[39;00m\n\u001b[1;32m    882\u001b[0m         handle \u001b[38;5;241m=\u001b[39m \u001b[38;5;28mopen\u001b[39m(handle, ioargs\u001b[38;5;241m.\u001b[39mmode)\n",
      "\u001b[0;31mFileNotFoundError\u001b[0m: [Errno 2] No such file or directory: 'references/datasets/washington/dataset.csv'"
     ]
    }
   ],
   "source": [
    "# Define the path to your data file\n",
    "data_path = \"references/datasets/washington/dataset.csv\"\n",
    "\n",
    "# Load the data into a DataFrame\n",
    "df = pd.read_csv(data_path)\n",
    "\n",
    "# Display basic information about your dataset\n",
    "print(df.head())"
   ]
  },
  {
   "cell_type": "markdown",
   "id": "28456849",
   "metadata": {},
   "source": [
    "The `pd.read_csv()` function is incredibly powerful and handles many complexities automatically:\n",
    "- Automatically detects column headers\n",
    "- Infers appropriate data types for each column\n",
    "- Handles different types of missing data representations\n",
    "- Manages various CSV formatting conventions"
   ]
  },
  {
   "cell_type": "markdown",
   "id": "d6bdb571",
   "metadata": {},
   "source": [
    "### Professional Data Inspection Techniques\n",
    "\n",
    "Once you've loaded the data, professional practice requires systematic inspection to understand what you're working with. This isn't just technical due diligence - it's essential for providing accurate consulting advice:\n",
    "\n",
    "**Dataset Shape and Size**:"
   ]
  },
  {
   "cell_type": "code",
   "execution_count": null,
   "id": "a2246f47",
   "metadata": {},
   "outputs": [],
   "source": [
    "print(f\"Dataset contains {df.shape[0]} rows and {df.shape[1]} columns\")"
   ]
  },
  {
   "cell_type": "markdown",
   "id": "62d63403",
   "metadata": {},
   "source": [
    "This tells your client how much historical data they have available for analysis, which affects the reliability of predictions you can make.\n",
    "\n",
    "**Column Information and Data Types**:"
   ]
  },
  {
   "cell_type": "code",
   "execution_count": null,
   "id": "214686e3",
   "metadata": {},
   "outputs": [],
   "source": [
    "print(df.info())"
   ]
  },
  {
   "cell_type": "markdown",
   "id": "a1256479",
   "metadata": {},
   "source": [
    "Understanding data types is crucial for choosing appropriate analysis techniques and identifying potential data quality issues.\n",
    "\n",
    "**Statistical Summary**:"
   ]
  },
  {
   "cell_type": "code",
   "execution_count": null,
   "id": "c2a4ba0d",
   "metadata": {},
   "outputs": [],
   "source": [
    "print(df.describe())"
   ]
  },
  {
   "cell_type": "markdown",
   "id": "8b420524",
   "metadata": {},
   "source": [
    "This provides initial insights into data ranges, which helps identify outliers and validates that the data makes business sense."
   ]
  },
  {
   "cell_type": "markdown",
   "id": "06076ad3",
   "metadata": {},
   "source": [
    "### Connecting Data Structure to Business Questions\n",
    "\n",
    "Every column in your DataFrame corresponds to a potential business insight:\n",
    "\n",
    "**Datetime Column**: Enables time-based analysis to identify peak usage periods, seasonal trends, and operational patterns that inform staffing and inventory decisions.\n",
    "\n",
    "**Weather Variables**: Allow demand forecasting based on weather predictions, helping optimize bike availability before weather changes.\n",
    "\n",
    "**User Type Segmentation**: Casual vs. registered users have different usage patterns, enabling targeted service improvements and pricing strategies.\n",
    "\n",
    "**Count Variables**: The target variable you'll eventually predict, representing the business outcome your client cares most about.\n",
    "\n",
    "Understanding these connections transforms technical data loading into strategic business preparation."
   ]
  },
  {
   "cell_type": "markdown",
   "id": "b865309f",
   "metadata": {},
   "source": [
    "## 6. Essential DataFrame Operations for Transportation Analysis"
   ]
  },
  {
   "cell_type": "markdown",
   "id": "b88b7c4b",
   "metadata": {},
   "source": [
    "### Data Selection: Finding What Matters to Your Client\n",
    "\n",
    "Professional data analysis requires the ability to extract specific information that answers business questions. Pandas provides multiple ways to select data, each appropriate for different consulting scenarios:\n",
    "\n",
    "**Column Selection for Focused Analysis**:"
   ]
  },
  {
   "cell_type": "code",
   "execution_count": null,
   "id": "09a83ffc",
   "metadata": {},
   "outputs": [],
   "source": [
    "# Select single variable for trend analysis\n",
    "bike_counts = df['count']\n",
    "\n",
    "# Select multiple related variables for weather impact analysis\n",
    "weather_data = df[['temp', 'humidity', 'windspeed', 'count']]"
   ]
  },
  {
   "cell_type": "markdown",
   "id": "c33b8f7f",
   "metadata": {},
   "source": [
    "**Row Selection for Time-Based Analysis**:"
   ]
  },
  {
   "cell_type": "code",
   "execution_count": null,
   "id": "ffe608cc",
   "metadata": {},
   "outputs": [],
   "source": [
    "# First 100 hours of operations\n",
    "early_operations = df.head(100)\n",
    "\n",
    "# Specific time period for seasonal analysis\n",
    "january_data = df.iloc[0:744]  # First month (24 hours × 31 days)"
   ]
  },
  {
   "cell_type": "markdown",
   "id": "82e0b0cc",
   "metadata": {},
   "source": [
    "**Conditional Selection for Business Intelligence**:"
   ]
  },
  {
   "cell_type": "code",
   "execution_count": null,
   "id": "ed4925d4",
   "metadata": {},
   "outputs": [],
   "source": [
    "# High-demand periods (above average usage)\n",
    "peak_usage = df[df['count'] > df['count'].mean()]\n",
    "\n",
    "# Weather-specific analysis\n",
    "rainy_days = df[df['weather'] == 3]  # Weather code 3 represents rain"
   ]
  },
  {
   "cell_type": "markdown",
   "id": "c9dcf4b1",
   "metadata": {},
   "source": [
    "### Data Inspection for Quality Assurance\n",
    "\n",
    "Before conducting any analysis for your client, professional practice requires validating data quality. This protects both your reputation and your client's business decisions:\n",
    "\n",
    "**Missing Data Detection**:"
   ]
  },
  {
   "cell_type": "code",
   "execution_count": null,
   "id": "6961df62",
   "metadata": {},
   "outputs": [],
   "source": [
    "# Count missing values in each column\n",
    "missing_summary = df.isnull().sum()\n",
    "print(missing_summary)"
   ]
  },
  {
   "cell_type": "markdown",
   "id": "61c3eca4",
   "metadata": {},
   "source": [
    "**Value Range Validation**:"
   ]
  },
  {
   "cell_type": "code",
   "execution_count": null,
   "id": "a2276942",
   "metadata": {},
   "outputs": [],
   "source": [
    "# Check if bike counts fall within reasonable ranges\n",
    "print(f\"Bike count range: {df['count'].min()} to {df['count'].max()}\")\n",
    "print(f\"Temperature range: {df['temp'].min()} to {df['temp'].max()}\")"
   ]
  },
  {
   "cell_type": "markdown",
   "id": "c92ed837",
   "metadata": {},
   "source": [
    "**Data Distribution Understanding**:"
   ]
  },
  {
   "cell_type": "code",
   "execution_count": null,
   "id": "32ad761e",
   "metadata": {},
   "outputs": [],
   "source": [
    "# Statistical summary for key business metrics\n",
    "print(df[['temp', 'humidity', 'count']].describe())"
   ]
  },
  {
   "cell_type": "markdown",
   "id": "7edd7ac3",
   "metadata": {},
   "source": [
    "### Connecting Operations to Business Outcomes\n",
    "\n",
    "Each pandas operation you learn serves a specific business purpose:\n",
    "\n",
    "**Selection Operations**: Enable focused analysis on specific aspects of the business (weather sensitivity, user behavior, temporal patterns) that directly inform strategic decisions.\n",
    "\n",
    "**Inspection Operations**: Ensure data reliability, which builds client confidence and prevents costly mistakes based on flawed information.\n",
    "\n",
    "**Summary Operations**: Provide the statistical foundation for making data-driven recommendations about operations, pricing, and strategic investments.\n",
    "\n",
    "Mastering these fundamental operations creates the foundation for all advanced analysis you'll perform as a transportation consultant."
   ]
  },
  {
   "cell_type": "markdown",
   "id": "18e12715",
   "metadata": {},
   "source": [
    "## 7. Data Types and Their Business Implications"
   ]
  },
  {
   "cell_type": "markdown",
   "id": "e1a9de56",
   "metadata": {},
   "source": [
    "### Understanding Data Types in Transportation Context\n",
    "\n",
    "Not all data is created equal, and understanding the different types of information in your dataset directly affects the analysis techniques you can apply and the business insights you can generate.\n",
    "\n",
    "**Numerical Data**: Information that can be measured or counted\n",
    "- **Continuous**: Temperature, humidity, wind speed (can take any value within a range)\n",
    "- **Discrete**: Bike counts, user counts (whole numbers only)\n",
    "\n",
    "**Categorical Data**: Information that represents categories or groups\n",
    "- **Nominal**: Weather conditions, season (no natural order)\n",
    "- **Ordinal**: Weather severity codes (1=Clear, 2=Misty, 3=Light Rain, 4=Heavy Rain)\n",
    "\n",
    "**Temporal Data**: Time-based information that enables trend analysis and forecasting"
   ]
  },
  {
   "cell_type": "markdown",
   "id": "861af294",
   "metadata": {},
   "source": [
    "### Data Type Impact on Analysis Capabilities\n",
    "\n",
    "Different data types enable different types of business analysis:\n",
    "\n",
    "**Numerical Data Analysis**:\n",
    "- Calculate averages, trends, and correlations\n",
    "- Build predictive models for demand forecasting\n",
    "- Identify optimal operating ranges (temperature ranges with highest demand)\n",
    "\n",
    "**Categorical Data Analysis**:\n",
    "- Compare performance across different conditions (sunny vs. rainy days)\n",
    "- Segment users and customize services\n",
    "- Identify operational factors that influence demand\n",
    "\n",
    "**Temporal Data Analysis**:\n",
    "- Forecast future demand based on historical patterns\n",
    "- Identify seasonal trends for capacity planning\n",
    "- Optimize maintenance and rebalancing schedules\n",
    "\n",
    "Understanding these capabilities helps you choose the right analysis approach for each business question your client presents."
   ]
  },
  {
   "cell_type": "markdown",
   "id": "d77852d3",
   "metadata": {},
   "source": [
    "### Data Type Conversion for Enhanced Analysis\n",
    "\n",
    "Sometimes you need to convert between data types to enable more sophisticated analysis:"
   ]
  },
  {
   "cell_type": "code",
   "execution_count": null,
   "id": "abd21cb2",
   "metadata": {},
   "outputs": [],
   "source": [
    "# Convert datetime strings to actual datetime objects for time-based analysis\n",
    "df['datetime'] = pd.to_datetime(df['datetime'])\n",
    "\n",
    "# Extract useful time components for business analysis\n",
    "df['hour'] = df['datetime'].dt.hour\n",
    "df['day_of_week'] = df['datetime'].dt.day_name()\n",
    "df['month'] = df['datetime'].dt.month"
   ]
  },
  {
   "cell_type": "markdown",
   "id": "2067ff7f",
   "metadata": {},
   "source": [
    "These conversions enable more sophisticated business questions:\n",
    "- Which hours of the day have highest demand?\n",
    "- Do weekends show different patterns than weekdays?\n",
    "- How does seasonal variation affect monthly revenue?\n",
    "\n",
    "---"
   ]
  },
  {
   "cell_type": "markdown",
   "id": "9887fb53",
   "metadata": {},
   "source": [
    "## Summary and Transition to Data Quality Implementation\n",
    "\n",
    "Your mastery of pandas fundamentals establishes the technical foundation essential for professional transportation consulting. Understanding Series and DataFrame structures, data loading procedures, and professional workflow practices provides the analytical infrastructure necessary for sophisticated business applications.\n",
    "\n",
    "The pandas expertise you've developed transforms raw data files into structured analytical platforms. Your ability to load the Washington D.C. bike-sharing dataset, inspect data quality, and navigate DataFrame operations creates the operational foundation for all advanced analysis you'll perform as a transportation consultant.\n",
    "\n",
    "Professional pandas proficiency distinguishes competent data consultants who combine technical accuracy with business applications. Your expertise enables engagement with complex transportation datasets while maintaining analytical rigor essential for generating reliable business insights and strategic recommendations.\n",
    "\n",
    "Your next challenge involves implementing advanced data quality assessment and cleaning techniques that ensure analytical reliability. The data quality implementation will demonstrate how pandas fundamentals translate to working solutions that prepare messy real-world data for sophisticated business analysis.\n",
    "\n",
    "The integration of pandas mastery with data quality practices creates comprehensive data preparation capability essential for professional transportation consulting success. Your technical foundation combined with systematic data preparation expertise enables sophisticated business applications that drive strategic value creation and competitive advantage in urban mobility markets.\n",
    "\n",
    "The foundation you've built in this lecture - understanding pandas structures, loading real-world data, and applying professional practices - enables everything you'll accomplish as a transportation consultant. In our next lecture, we'll build on this foundation by learning how to clean and prepare messy real-world data for analysis, turning the raw information into reliable insights your clients can act upon."
   ]
  }
 ],
 "metadata": {
  "language_info": {
   "name": "python"
  }
 },
 "nbformat": 4,
 "nbformat_minor": 5
}
