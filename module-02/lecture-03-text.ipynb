{
 "cells": [
  {
   "cell_type": "markdown",
   "id": "b7526c94",
   "metadata": {},
   "source": [
    "# Lecture 3: Introduction to Pandas & Data Structures - Building Your Foundation"
   ]
  },
  {
   "cell_type": "markdown",
   "id": "5a6bebdc",
   "metadata": {},
   "source": [
    "## Learning Objectives\n",
    "\n",
    "By the end of this lecture, you will be able to:\n",
    "- Import and understand the pandas library for data manipulation\n",
    "- Work with pandas Series and DataFrame structures effectively\n",
    "- Load and inspect the Washington D.C. bike-sharing dataset\n",
    "- Understand basic data types and structures in Python data analysis\n",
    "- Apply fundamental pandas operations for data exploration\n",
    "\n",
    "---"
   ]
  },
  {
   "cell_type": "markdown",
   "id": "29886147",
   "metadata": {},
   "source": [
    "## 1. Your Journey as a Data Consultant Begins\n",
    "\n",
    "Welcome to your first day as a junior data consultant! Your client, a growing bike-sharing startup, has asked you to help them understand their data and build better demand forecasting capabilities. Like any professional consultant, you need to start with the fundamentals - understanding your tools and your data.\n",
    "\n",
    "Think of this like learning to be a craftsperson. Before a carpenter builds a house, they master their tools: saws, hammers, measuring devices. As a data consultant, your primary tools are programming languages and libraries - and pandas is the most essential tool for data work in Python.\n",
    "\n",
    "Today, you'll learn pandas not as an abstract programming concept, but as the foundation that will enable you to help your client make better business decisions. Every technique you master here will directly contribute to solving real transportation challenges."
   ]
  },
  {
   "cell_type": "markdown",
   "id": "eb995428",
   "metadata": {},
   "source": [
    "## 2. The Pandas Library: Your Data Manipulation Powerhouse"
   ]
  },
  {
   "cell_type": "markdown",
   "id": "7329ee1d",
   "metadata": {},
   "source": [
    "### What is Pandas and Why Do You Need It?\n",
    "\n",
    "Pandas is like having a powerful Swiss Army knife for working with data. Just as a mechanic wouldn't try to fix a car with just their bare hands, you wouldn't want to analyze data without pandas. It provides the tools you need to load, clean, and manipulate data efficiently.\n",
    "\n",
    "For your bike-sharing client, this means pandas will help you in tasks such as:\n",
    "- Load their historical rental data from files\n",
    "- Clean and prepare messy real-world data\n",
    "- Transform raw operational data into actionable insights"
   ]
  },
  {
   "cell_type": "markdown",
   "id": "4c62ec06",
   "metadata": {},
   "source": [
    "### Understanding Your Data Toolkit Components\n",
    "\n",
    "Pandas provides two fundamental structures for organizing data, much like how a workshop has different types of containers for different purposes:\n",
    "\n",
    "1. **Series**: Like a single column of a spreadsheet. Perfect for storing one type of information (like all the temperatures recorded).\n",
    "\n",
    "2. **DataFrame**: Like a complete spreadsheet with rows and columns. This is where you'll store your full bike-sharing dataset with all variables together."
   ]
  },
  {
   "cell_type": "markdown",
   "id": "0c622603",
   "metadata": {},
   "source": [
    "### Importing Pandas: Setting Up Your Workshop\n",
    "\n",
    "Before you can use any tool, you need to make it available in your workspace. In Python, this means importing pandas:"
   ]
  },
  {
   "cell_type": "code",
   "execution_count": null,
   "id": "58353537",
   "metadata": {},
   "outputs": [],
   "source": [
    "import pandas as pd"
   ]
  },
  {
   "cell_type": "markdown",
   "id": "b19ca09d",
   "metadata": {},
   "source": [
    "This simple line does several important things:\n",
    "- Makes all pandas functions available to use\n",
    "- Creates the shorthand `pd` so you don't have to type `pandas` every time\n",
    "- Follows the standard convention that all Python data analysts use\n",
    "\n",
    "The `as pd` part is like giving pandas a nickname that everyone in the data science community recognizes. When you see `pd.` in code, you immediately know you're working with pandas operations."
   ]
  },
  {
   "cell_type": "markdown",
   "id": "58f2e351",
   "metadata": {},
   "source": [
    "## 3. Series: Your First Data Structure"
   ]
  },
  {
   "cell_type": "markdown",
   "id": "602fc5c7",
   "metadata": {},
   "source": [
    "### Understanding Series Through Bike-Sharing Examples\n",
    "\n",
    "A Series is like a single column of data with labels for each value. Imagine you're tracking the number of bikes rented each hour during a typical Monday morning:"
   ]
  },
  {
   "cell_type": "code",
   "execution_count": null,
   "id": "13505375",
   "metadata": {},
   "outputs": [],
   "source": [
    "hourly_rentals = pd.Series([15, 23, 45, 67, 89, 156, 234, 287])\n",
    "print(hourly_rentals)"
   ]
  },
  {
   "cell_type": "markdown",
   "id": "6f154e30",
   "metadata": {},
   "source": [
    "This creates a Series, named `hourly_rentals`, where:\n",
    "- The values (15, 23, 45, etc.) represent bike rentals for each hour\n",
    "- Each value gets an automatic index (0, 1, 2, etc.) like row numbers\n",
    "- You can think of the index as the \"label\" for each measurement\n",
    "\n",
    "> **Note:** In Python, numbering (indexing) starts at 0, not 1. So the first item is at position 0.\n",
    "\n",
    "Note that since we already imported pandas as `pd`, we can now use `pd.Series` to easily create our first data structure."
   ]
  },
  {
   "cell_type": "markdown",
   "id": "654b6705",
   "metadata": {},
   "source": [
    "### Practical Series Creation for Transportation Data\n",
    "\n",
    "Let's create a more realistic example using actual time labels:"
   ]
  },
  {
   "cell_type": "code",
   "execution_count": null,
   "id": "4a91c098",
   "metadata": {},
   "outputs": [],
   "source": [
    "morning_hours = ['6 AM', '7 AM', '8 AM', '9 AM', '10 AM']\n",
    "morning_rentals = pd.Series([23, 67, 156, 89, 45], index=morning_hours)\n",
    "print(morning_rentals)"
   ]
  },
  {
   "cell_type": "markdown",
   "id": "a0106c17",
   "metadata": {},
   "source": [
    "Explanation of the code:\n",
    "- `morning_hours = ['6 AM', '7 AM', '8 AM', '9 AM', '10 AM']` This line creates a Python list with time labels. These labels will serve as the **index** of the Series, representing the hour of the morning.\n",
    "- `morning_rentals = pd.Series([23, 67, 156, 89, 45], index=morning_hours)` Here, we use `pd.Series` to create a pandas Series. The first argument `[23, 67, 156, 89, 45]` represents the bike rental counts, while the `index=morning_hours` argument assigns each value to a specific time label.\n",
    "- `print(morning_rentals)` This line prints the Series to the console, displaying the bike rental counts along with their corresponding time labels.\n",
    "\n",
    "Now your Series has meaningful labels that make business sense. When you show this to your client, they can immediately understand that 8 AM has the highest rental count (156 bikes), which aligns with morning commute patterns."
   ]
  },
  {
   "cell_type": "markdown",
   "id": "43b6ae1b",
   "metadata": {},
   "source": [
    "### Why Series Matter for Your Consulting Work\n",
    "\n",
    "Series are more than just lists - they're intelligent containers that:\n",
    "- Keep related information together (values and their meanings)\n",
    "- Enable mathematical operations (calculating averages, totals, trends)\n",
    "- Support easy filtering and selection (finding peak hours, low-demand periods)\n",
    "\n",
    "For transportation consulting, Series help you organize time-based patterns, station-specific metrics, and categorical data like weather conditions or user types."
   ]
  },
  {
   "cell_type": "markdown",
   "id": "5f652ccc",
   "metadata": {},
   "source": [
    "## 4. DataFrame: Your Complete Data Laboratory"
   ]
  },
  {
   "cell_type": "markdown",
   "id": "600b1221",
   "metadata": {},
   "source": [
    "### Understanding DataFrames as Digital Spreadsheets\n",
    "\n",
    "If Series are like single columns, DataFrames are like complete spreadsheets with multiple columns and rows. For your bike-sharing client, a DataFrame would contain all the information about each rental period: time, weather, bike counts, user types, and more.\n",
    "\n",
    "Think of a DataFrame as a comprehensive record where each row represents one time period (like one hour) and each column represents one type of measurement (like temperature, humidity, bike count)."
   ]
  },
  {
   "cell_type": "markdown",
   "id": "a44dbb8f",
   "metadata": {},
   "source": [
    "### Creating Your First Transportation DataFrame\n",
    "\n",
    "Let's build a small DataFrame that represents what your client's data looks like:"
   ]
  },
  {
   "cell_type": "code",
   "execution_count": null,
   "id": "c46ab78f",
   "metadata": {},
   "outputs": [],
   "source": [
    "bike_data = pd.DataFrame({\n",
    "    'hour': ['6 AM', '7 AM', '8 AM', '9 AM'],\n",
    "    'temperature': [45, 47, 52, 55],\n",
    "    'rentals': [23, 67, 156, 89],\n",
    "    'weather': ['Clear', 'Clear', 'Partly Cloudy', 'Clear']\n",
    "})\n",
    "print(bike_data)"
   ]
  },
  {
   "cell_type": "markdown",
   "id": "89e84705",
   "metadata": {},
   "source": [
    "Explanation of the code:\n",
    "- `bike_data = pd.DataFrame({...})` This line creates a pandas `DataFrame` with the name `bike_data`.\n",
    "- Inside the curly braces `{ ... }`, we define the DataFrame as a dictionary:\n",
    "  - Each **key** (e.g., `hour`, `temperature`, `rentals`, `weather`) becomes a **column name**.\n",
    "  - Each **list of values** associated with the key (e.g., `[45, 47, 52, 55]` for temperature) becomes the **column data**.\n",
    "  - All lists must be the **same length**, because each position across the lists corresponds to one row in the table.\n",
    "- In this example:\n",
    "  - `'hour'` marks the time of day.\n",
    "  - `'temperature'` gives the measured temperature (we used Fahrenheit in this example).\n",
    "  - `'rentals'` shows the number of bikes rented.\n",
    "  - `'weather'` describes conditions during that hour.\n",
    "- `print(bike_data)` displays the DataFrame in a structured, tabular format where each row represents one observation (an hour of operations), and each column represents one variable being tracked.\n",
    "\n",
    "This DataFrame builds on what you just learned about Series. Instead of working with a single column of data, you now have **multiple Series combined side by side** in one structured table. Each row corresponds to a specific hour, while each column captures a different type of measurement (time, temperature, rentals, weather). This way, all the related information for each hour stays neatly aligned."
   ]
  },
  {
   "cell_type": "markdown",
   "id": "f1cfbd70",
   "metadata": {},
   "source": [
    "### Why DataFrame Matter for Your Consulting Work\n",
    "\n",
    "Every DataFrame has key components that make it powerful for business analysis:\n",
    "\n",
    "- **Columns**: Each variable you're tracking (temperature, rentals, weather conditions). These become the factors you'll analyze to understand demand patterns.\n",
    "- **Rows**: Each observation or time period. In transportation, this is usually time-based (hourly, daily) but could be trip-based or station-based.\n",
    "- **Index**: The row identifiers. By default, these are numbers (0, 1, 2), but you can use dates, station IDs, or other meaningful identifiers.\n",
    "- **Values**: The actual data inside the table. This is the business information you'll analyze to generate insights and predictions."
   ]
  },
  {
   "cell_type": "markdown",
   "id": "a46f004f",
   "metadata": {},
   "source": [
    "## 5. Loading Real-World Data: Working with the Washington D.C. Dataset"
   ]
  },
  {
   "cell_type": "markdown",
   "id": "c9829b88",
   "metadata": {},
   "source": [
    "### Understanding Your Client's Data Source\n",
    "\n",
    "Your bike-sharing startup client has provided you with historical data from the Washington D.C. bike-sharing system. This real-world dataset contains all the complexities you'll encounter in professional consulting: multiple variables, different data types, time series information, and the messiness of actual operations.\n",
    "\n",
    "The dataset includes:\n",
    "- **Temporal Information**: Date and time of each rental period\n",
    "- **Weather Data**: Temperature, humidity, wind speed, and weather conditions\n",
    "- **Usage Metrics**: Casual users, registered users, and total counts\n",
    "- **Operational Context**: Holiday indicators, working day flags, and seasonal information"
   ]
  },
  {
   "cell_type": "markdown",
   "id": "f79cfc30",
   "metadata": {},
   "source": [
    "### The Data Loading Process\n",
    "\n",
    "Loading data from files is a fundamental consulting skill. Your client's data is stored in CSV (Comma-Separated Values) format, which is standard for sharing tabular data between systems:"
   ]
  },
  {
   "cell_type": "code",
   "execution_count": null,
   "id": "b9328e03",
   "metadata": {},
   "outputs": [],
   "source": [
    "# Define the path to your data file\n",
    "data_path = \"https://raw.githubusercontent.com/pmarcelino/predictive-modeling/main/dataset/dataset.csv\"\n",
    "\n",
    "# Load the data into a DataFrame\n",
    "df = pd.read_csv(data_path)\n",
    "\n",
    "# Display basic information about your dataset\n",
    "print(df.head())"
   ]
  },
  {
   "cell_type": "markdown",
   "id": "da2067c9",
   "metadata": {},
   "source": [
    "The `pd.read_csv()` function is incredibly powerful and handles many complexities automatically:\n",
    "- Automatically detects column headers\n",
    "- Infers appropriate data types for each column\n",
    "- Manages various CSV formatting conventions"
   ]
  },
  {
   "cell_type": "markdown",
   "id": "2842c42d",
   "metadata": {},
   "source": [
    "### First Inspection: Getting Familiar with the Dataset\n",
    "\n",
    "Once you've loaded the data, the next step is to take a quick first look to understand its structure and contents. This initial inspection isn’t about deep analysis yet — it’s simply a way to get familiar with what you’re working with so you can start asking the right questions.\n",
    "\n",
    "**Dataset Shape and Size**:"
   ]
  },
  {
   "cell_type": "code",
   "execution_count": null,
   "id": "d4c3217a",
   "metadata": {},
   "outputs": [],
   "source": [
    "print(f\"Dataset contains {df.shape[0]} rows and {df.shape[1]} columns\")"
   ]
  },
  {
   "cell_type": "markdown",
   "id": "739ca0d0",
   "metadata": {},
   "source": [
    "This tells your client how much historical data they have available for analysis, which affects the reliability of predictions you can make.\n",
    "\n",
    "**Column Information and Data Types**:"
   ]
  },
  {
   "cell_type": "code",
   "execution_count": null,
   "id": "1c93b0ab",
   "metadata": {},
   "outputs": [],
   "source": [
    "print(df.info())"
   ]
  },
  {
   "cell_type": "markdown",
   "id": "48e2018c",
   "metadata": {},
   "source": [
    "Understanding the data you have is crucial for choosing appropriate analysis techniques and identifying potential issues.\n",
    "\n",
    "**Statistical Summary**:"
   ]
  },
  {
   "cell_type": "code",
   "execution_count": null,
   "id": "feacb8a4",
   "metadata": {},
   "outputs": [],
   "source": [
    "print(df.describe())"
   ]
  },
  {
   "cell_type": "markdown",
   "id": "fd0ff87b",
   "metadata": {},
   "source": [
    "This provides initial insights into data ranges, which helps identify outliers and validates that the data makes business sense."
   ]
  },
  {
   "cell_type": "markdown",
   "id": "6b55ddcc",
   "metadata": {},
   "source": [
    "## 6. Essential DataFrame Operations for Transportation Analysis\n",
    "\n",
    "Pandas has different types of operations that serve different business purposes:\n",
    "\n",
    "- **Selection Operations**: Enable focused analysis on specific aspects of the business (weather sensitivity, user behavior, temporal patterns) that directly inform strategic decisions.\n",
    "- **Inspection Operations**: Ensure data reliability, which builds client confidence and prevents costly mistakes based on flawed information.\n",
    "- **Summary Operations**: Provide the statistical foundation for making data-driven recommendations about operations, pricing, and strategic investments.\n",
    "\n",
    "Mastering these fundamental operations creates the foundation for all advanced analysis you'll perform as a transportation consultant."
   ]
  },
  {
   "cell_type": "markdown",
   "id": "3ce3e4b8",
   "metadata": {},
   "source": [
    "### Selection Operations: Finding What Matters to Your Client\n",
    "\n",
    "Professional data analysis requires the ability to extract specific information that answers business questions. Pandas provides multiple ways to select data, each appropriate for different consulting scenarios:\n",
    "\n",
    "**Column Selection**:"
   ]
  },
  {
   "cell_type": "code",
   "execution_count": null,
   "id": "a10e987d",
   "metadata": {},
   "outputs": [],
   "source": [
    "# Select single variable for trend analysis\n",
    "bike_counts = df['count']\n",
    "print(f\"Selected bike counts column - Shape: {bike_counts.shape}\")\n",
    "print(f\"Data type: {bike_counts.dtype}\")\n",
    "print(f\"First 5 values:\\n{bike_counts.head()}\")\n",
    "print()\n",
    "\n",
    "# Select multiple related variables for weather impact analysis\n",
    "weather_data = df[['temp', 'humidity', 'windspeed', 'count']]\n",
    "print(f\"Weather analysis dataset - Shape: {weather_data.shape}\")\n",
    "print(f\"Selected columns: {list(weather_data.columns)}\")\n",
    "print(f\"Sample data:\\n{weather_data.head(3)}\")"
   ]
  },
  {
   "cell_type": "markdown",
   "id": "3648189c",
   "metadata": {},
   "source": [
    "Column selection lets you focus your analysis on specific business questions. The output here demonstrates two useful approaches:\n",
    "\n",
    "1. **Single-column selection (bike counts only)**\n",
    "   - The `count` column (10,886 records) is isolated as our target variable.\n",
    "   - Values range from 1 to 40 bikes per hour.\n",
    "   - This makes it ideal for simple trend analysis.\n",
    "\n",
    "2. **Multi-column selection (weather impact analysis)**\n",
    "   - A subset is created with four columns: `temp`, `humidity`, `windspeed`, and `count`.\n",
    "   - Example values: temperature ~9.8°C, humidity ~80%, windspeed = 0.0 (calm conditions).\n",
    "   - This focused dataset links bike usage with environmental factors.\n",
    "\n",
    "Together, these views highlight how column selection shapes the analysis. For example, the sample shows **low bike usage (16, 40, 32 rentals)** under similar weather conditions, hinting at patterns worth investigating further.\n",
    "\n",
    "**Row Selection**:"
   ]
  },
  {
   "cell_type": "code",
   "execution_count": null,
   "id": "52f4c51b",
   "metadata": {},
   "outputs": [],
   "source": [
    "# First 100 hours of operations\n",
    "early_operations = df.head(100)\n",
    "print(f\"Early operations period - Shape: {early_operations.shape}\")\n",
    "print(f\"Date range: {early_operations['datetime'].min()} to {early_operations['datetime'].max()}\")\n",
    "print(f\"Average bike usage in early period: {early_operations['count'].mean():.1f}\")\n",
    "print()\n",
    "\n",
    "# Specific time period for seasonal analysis\n",
    "january_data = df.iloc[0:744]  # First month (24 hours × 31 days)\n",
    "print(f\"January analysis dataset - Shape: {january_data.shape}\")\n",
    "print(f\"Total hours covered: {len(january_data)} hours\")\n",
    "print(f\"Date range: {january_data['datetime'].min()} to {january_data['datetime'].max()}\")\n",
    "print(f\"January average usage: {january_data['count'].mean():.1f} bikes/hour\")"
   ]
  },
  {
   "cell_type": "markdown",
   "id": "354ebb5f",
   "metadata": {},
   "source": [
    "Row selection allows you to analyze specific business periods. The output here highlights two comparisons:\n",
    "\n",
    "1. **Early operations (first 100 hours: Jan 1–5, 2011)**\n",
    "   - Average usage: **50.3 bikes/hour**\n",
    "   - Shows strong initial demand during the launch phase.\n",
    "\n",
    "2. **Full January dataset (744 hours: complete month)**\n",
    "   - Average usage: **59.0 bikes/hour**\n",
    "   - A **17% increase** compared to the launch period.\n",
    "   - Suggests growing adoption and establishes a baseline for long-term demand.\n",
    "\n",
    "This comparison helps distinguish between **startup dynamics** and **established usage patterns**. Looking at a wider range (Jan 1 – Feb 14) also reveals **seasonal variations**, which are important for staffing and inventory planning.\n",
    "\n",
    "**Conditional Selection**:"
   ]
  },
  {
   "cell_type": "code",
   "execution_count": null,
   "id": "e742cd87",
   "metadata": {},
   "outputs": [],
   "source": [
    "# High-demand periods (above average usage)\n",
    "average_usage = df['count'].mean()\n",
    "peak_usage = df[df['count'] > average_usage]\n",
    "print(f\"Overall average usage: {average_usage:.1f} bikes/hour\")\n",
    "print(f\"Peak usage periods: {len(peak_usage)} hours ({len(peak_usage)/len(df)*100:.1f}% of time)\")\n",
    "print(f\"Average usage during peak periods: {peak_usage['count'].mean():.1f} bikes/hour\")\n",
    "print(f\"Peak period usage range: {peak_usage['count'].min()} to {peak_usage['count'].max()} bikes/hour\")\n",
    "print()\n",
    "\n",
    "# Weather-specific analysis\n",
    "rainy_days = df[df['weather'] == 3]  # Weather code 3 represents rain\n",
    "print(f\"Rainy weather analysis:\")\n",
    "print(f\"Total rainy hours: {len(rainy_days)} ({len(rainy_days)/len(df)*100:.1f}% of time)\")\n",
    "print(f\"Average usage on rainy days: {rainy_days['count'].mean():.1f} bikes/hour\")\n",
    "print(f\"Average usage on all days: {df['count'].mean():.1f} bikes/hour\")\n",
    "print(f\"Rain impact: {((rainy_days['count'].mean() / df['count'].mean() - 1) * 100):+.1f}% change in usage\")"
   ]
  },
  {
   "cell_type": "markdown",
   "id": "50dd7f0a",
   "metadata": {},
   "source": [
    "Conditional selection can reveal important business patterns. The output highlights two key insights:\n",
    "\n",
    "1. **Peak usage periods (above average demand)**\n",
    "    - 4,356 hours identified (40.0% of total time).\n",
    "    - Average usage: **369.9 bikes/hour** — nearly double the overall average of **191.6 bikes/hour**.\n",
    "    - Demand ranges from **192 to 977 bikes/hour**, showing when maximum bikes and staff are needed.\n",
    "\n",
    "2. **Rainy weather periods**\n",
    "    - 859 rainy hours recorded (7.9% of time).\n",
    "    - Average usage drops to **118.8 bikes/hour**.\n",
    "    - This is a **38.0% decrease** compared to normal conditions.\n",
    "\n",
    "Together, these insights help predict demand swings and guide operational planning. Peak periods show when to **scale up resources**, while rainy periods suggest opportunities for **maintenance or reduced staffing**."
   ]
  },
  {
   "cell_type": "markdown",
   "id": "f386becc",
   "metadata": {},
   "source": [
    "### Inspection Operations: Ensuring Data Quality\n",
    "\n",
    "Before conducting any analysis for your client, professional practice requires validating data quality. This protects both your reputation and your client's business decisions:\n",
    "\n",
    "**Missing Data Detection**:"
   ]
  },
  {
   "cell_type": "code",
   "execution_count": null,
   "id": "8b4ee153",
   "metadata": {},
   "outputs": [],
   "source": [
    "# Count missing values in each column\n",
    "missing_summary = df.isnull().sum()\n",
    "print(missing_summary)"
   ]
  },
  {
   "cell_type": "markdown",
   "id": "4f696f7e",
   "metadata": {},
   "source": [
    "Missing data can seriously affect business decisions, so it’s important to check for gaps early. The output shows that **no missing values were found** across all 11 columns (datetime, season, holiday, workingday, weather, temp, atemp, humidity, windspeed, casual, registered, and count).\n",
    "\n",
    "Having a **complete dataset is excellent news**. Even small gaps in weather variables (like temperature or humidity) or user metrics (casual vs. registered) could lead to inaccurate demand forecasts. This clean dataset gives us a solid foundation for reliable analysis moving forward.\n",
    "\n",
    "**Value Range Validation**:"
   ]
  },
  {
   "cell_type": "code",
   "execution_count": null,
   "id": "6fbec3fc",
   "metadata": {},
   "outputs": [],
   "source": [
    "# Check if bike counts fall within reasonable ranges\n",
    "print(f\"Bike count range: {df['count'].min()} to {df['count'].max()}\")\n",
    "print(f\"Temperature range: {df['temp'].min()} to {df['temp'].max()}\")"
   ]
  },
  {
   "cell_type": "markdown",
   "id": "8c755689",
   "metadata": {},
   "source": [
    "Checking value ranges helps confirm that our dataset doesn’t contain corrupted or unrealistic values. The output shows:\n",
    "\n",
    "- **Bike counts**: Range from **1 to 977** bikes/hour. All values are positive and fall within realistic limits for a bike-sharing system.\n",
    "- **Temperature**: Range from **0.82°C to 41.0°C**, which represents plausible seasonal variation - from near-freezing winter conditions to hot summer days.\n",
    "\n",
    "These ranges confirm that there are no negative bike counts or impossible weather values. This is important because out-of-range values might signal **sensor malfunctions, data corruption, or recording errors** that must be addressed before analysis."
   ]
  },
  {
   "cell_type": "markdown",
   "id": "b4b5e64a",
   "metadata": {},
   "source": [
    "### Summarization Operations: Providing Statistical Insights\n",
    "\n",
    "**Data Distribution**:"
   ]
  },
  {
   "cell_type": "code",
   "execution_count": null,
   "id": "03ac8bbc",
   "metadata": {},
   "outputs": [],
   "source": [
    "# Statistical summary for key business metrics\n",
    "print(df[['temp', 'humidity', 'count']].describe())"
   ]
  },
  {
   "cell_type": "markdown",
   "id": "3a33a5ef",
   "metadata": {},
   "source": [
    "Statistical summaries help reveal key operational patterns for business planning:\n",
    "\n",
    "- **Bike usage**: The average is **191.6 bikes/hour** with a median of **145**, showing right-skewed demand where peaks rise well above typical usage. Demand is highly variable, with a standard deviation of **181.1** — almost equal to the mean.\n",
    "- **Range of demand**: Low periods (25th percentile) average **42 bikes/hour**, while high periods (75th percentile) reach **284 bikes/hour**. At maximum, demand spikes to **977 bikes/hour** — over 5x the average and nearly 7x the median.\n",
    "\n",
    "These patterns show that demand fluctuates sharply, meaning the system requires a strong capacity buffer to handle peak loads."
   ]
  },
  {
   "cell_type": "markdown",
   "id": "9126b206",
   "metadata": {},
   "source": [
    "## 7. Data Types and Their Business Implications"
   ]
  },
  {
   "cell_type": "markdown",
   "id": "665d0694",
   "metadata": {},
   "source": [
    "### Understanding Data Types in Transportation Context\n",
    "\n",
    "Not all data is created equal, and understanding the different types of information in your dataset directly affects the analysis techniques you can apply and the business insights you can generate. In transportation datasets, we usually encounter three main types of data:\n",
    "\n",
    "**Numerical Data**\n",
    "\n",
    "Information that can be measured or counted.\n",
    "- **Continuous**: Temperature, humidity, wind speed (can take any value within a range)\n",
    "- **Discrete**: Bike counts, user counts (whole numbers only)\n",
    "\n",
    "**Categorical Data**\n",
    "\n",
    "Information that represents categories or groups.\n",
    "- **Nominal**: Weather conditions, season (no natural order)\n",
    "- **Ordinal**: Weather severity codes (1=Clear, 2=Misty, 3=Light Rain, 4=Heavy Rain)\n",
    "\n",
    "**Temporal Data**\n",
    "\n",
    "Time-based information that enables trend analysis and forecasting."
   ]
  },
  {
   "cell_type": "markdown",
   "id": "7d6f8a5e",
   "metadata": {},
   "source": [
    "### Data Type Impact on Analysis Capabilities\n",
    "\n",
    "Different data types enable different types of business analysis:\n",
    "\n",
    "**Numerical Data Analysis**\n",
    "\n",
    "Used to measure patterns and relationships. Typical applications include:\n",
    "- Calculate averages, trends, and correlations\n",
    "- Build predictive models for demand forecasting\n",
    "- Identify optimal operating ranges (temperature ranges with highest demand)\n",
    "\n",
    "**Categorical Data Analysis**\n",
    "\n",
    "Used to compare groups and categories. Typical applications include:\n",
    "- Compare performance across different conditions (sunny vs. rainy days)\n",
    "- Segment users and customize services\n",
    "- Identify operational factors that influence demand\n",
    "\n",
    "**Temporal Data Analysis**\n",
    "\n",
    "Used to analyze time-dependent patterns. Typical applications include:\n",
    "- Forecast future demand based on historical patterns\n",
    "- Identify seasonal trends for capacity planning\n",
    "- Optimize maintenance and rebalancing schedules\n",
    "\n",
    "Understanding these capabilities helps you choose the right analysis approach for each business question your client presents.\n",
    "\n",
    "---"
   ]
  },
  {
   "cell_type": "markdown",
   "id": "e9586839",
   "metadata": {},
   "source": [
    "## Summary and Transition to Data Quality Implementation\n",
    "\n",
    "Your mastery of pandas fundamentals establishes the technical foundation essential for professional transportation consulting. Understanding Series and DataFrame structures, data loading procedures, data operations, and data types provides the analytical infrastructure necessary for sophisticated business applications.\n",
    "\n",
    "The example provided by the Washington D.C. bike-sharing dataset, in which you were able to load the data, inspect data quality, and navigate DataFrame operations creates the operational foundation for all advanced analysis you'll perform as a transportation consultant in this course.\n",
    "\n",
    "In our next lecture, we'll build on this foundation by learning how to clean and prepare messy real-world data for analysis, turning the raw information into reliable insights your clients can act upon."
   ]
  }
 ],
 "metadata": {
  "kernelspec": {
   "display_name": "venv",
   "language": "python",
   "name": "python3"
  },
  "language_info": {
   "name": "python",
   "version": "3.10.2"
  }
 },
 "nbformat": 4,
 "nbformat_minor": 5
}
