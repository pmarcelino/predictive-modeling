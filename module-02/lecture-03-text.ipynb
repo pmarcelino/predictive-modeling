{
 "cells": [
  {
   "cell_type": "markdown",
   "metadata": {},
   "source": [
    "# Lecture 3: Introduction to Pandas & Data Structures - Building Your Foundation"
   ]
  },
  {
   "cell_type": "markdown",
   "metadata": {},
   "source": [
    "## Learning Objectives\n",
    "\n",
    "By the end of this lecture, you will be able to:\n",
    "- Import and understand the pandas library for data manipulation\n",
    "- Work with pandas Series and DataFrame structures effectively\n",
    "- Load and inspect the Washington D.C. bike-sharing dataset\n",
    "- Understand basic data types and structures in Python data analysis\n",
    "- Apply fundamental pandas operations for data exploration"
   ]
  },
  {
   "cell_type": "markdown",
   "metadata": {},
   "source": [
    "---"
   ]
  },
  {
   "cell_type": "markdown",
   "metadata": {},
   "source": [
    "## 1. Your Journey as a Data Consultant Begins\n",
    "\n",
    "Welcome to your first day as a junior data consultant! Your client, a growing bike-sharing startup, has asked you to help them understand their data and build better demand forecasting capabilities. Like any professional consultant, you need to start with the fundamentals - understanding your tools and your data.\n",
    "\n",
    "Think of this like learning to be a craftsperson. Before a carpenter builds a house, they master their tools: saws, hammers, measuring devices. Before a chef creates a restaurant menu, they understand ingredients, cooking techniques, and basic preparations. As a data consultant, your primary tools are programming languages and libraries - and pandas is the most essential tool for data work in Python.\n",
    "\n",
    "Today, you'll learn pandas not as an abstract programming concept, but as the foundation that will enable you to help your client make better business decisions. Every technique you master here will directly contribute to solving real transportation challenges."
   ]
  },
  {
   "cell_type": "markdown",
   "metadata": {},
   "source": [
    "## 2. The Pandas Library: Your Data Manipulation Powerhouse"
   ]
  },
  {
   "cell_type": "markdown",
   "metadata": {},
   "source": [
    "### What is Pandas and Why Do You Need It?\n",
    "\n",
    "Pandas (Python Data Analysis Library) is like having a powerful Swiss Army knife for working with data. Just as a mechanic wouldn't try to fix a car with just their bare hands, you wouldn't want to analyze data without pandas. It provides the tools you need to load, clean, analyze, and manipulate data efficiently.\n",
    "\n",
    "For your bike-sharing client, this means pandas will help you:\n",
    "- Load their historical rental data from files\n",
    "- Clean and prepare messy real-world data\n",
    "- Calculate important business metrics like peak usage times\n",
    "- Identify patterns that will inform demand predictions\n",
    "- Transform raw operational data into actionable insights\n",
    "\n",
    "Think of pandas as your data laboratory - a place where raw information becomes valuable business intelligence."
   ]
  },
  {
   "cell_type": "markdown",
   "metadata": {},
   "source": [
    "### Understanding Your Data Toolkit Components\n",
    "\n",
    "Pandas provides two fundamental structures for organizing data, much like how a workshop has different types of containers for different purposes:\n",
    "\n",
    "**Series**: Like a single column of a spreadsheet or a list with labels. Perfect for storing one type of information (like all the temperatures recorded, or all the bike rental counts).\n",
    "\n",
    "**DataFrame**: Like a complete spreadsheet with rows and columns. This is where you'll store your full bike-sharing dataset with all variables together."
   ]
  },
  {
   "cell_type": "markdown",
   "metadata": {},
   "source": [
    "### Importing Pandas: Setting Up Your Workshop\n",
    "\n",
    "Before you can use any tool, you need to make it available in your workspace. In Python, this means importing pandas:"
   ]
  },
  {
   "cell_type": "code",
   "execution_count": null,
   "metadata": {},
   "outputs": [],
   "source": [
    "import pandas as pd"
   ]
  },
  {
   "cell_type": "markdown",
   "metadata": {},
   "source": [
    "This simple line does several important things:\n",
    "- Makes all pandas functions available to use\n",
    "- Creates the shorthand `pd` so you don't have to type `pandas` every time\n",
    "- Follows the standard convention that all Python data analysts use\n",
    "\n",
    "The `as pd` part is like giving pandas a nickname that everyone in the data science community recognizes. When you see `pd.` in code, you immediately know you're working with pandas operations."
   ]
  },
  {
   "cell_type": "markdown",
   "metadata": {},
   "source": [
    "## 3. Series: Your First Data Structure"
   ]
  },
  {
   "cell_type": "markdown",
   "metadata": {},
   "source": [
    "### Understanding Series Through Bike-Sharing Examples\n",
    "\n",
    "A Series is like a single column of data with labels for each value. Imagine you're tracking the number of bikes rented each hour during a typical Monday morning:"
   ]
  },
  {
   "cell_type": "code",
   "execution_count": null,
   "metadata": {},
   "outputs": [],
   "source": [
    "hourly_rentals = pd.Series([15, 23, 45, 67, 89, 156, 234, 287])\n",
    "print(hourly_rentals)"
   ]
  },
  {
   "cell_type": "markdown",
   "metadata": {},
   "source": [
    "This creates a Series where:\n",
    "- The values (15, 23, 45, etc.) represent bike rentals for each hour\n",
    "- Each value gets an automatic index (0, 1, 2, etc.) like row numbers\n",
    "- You can think of the index as the \"label\" for each measurement"
   ]
  },
  {
   "cell_type": "markdown",
   "metadata": {},
   "source": [
    "### Practical Series Creation for Transportation Data\n",
    "\n",
    "Let's create a more realistic example using actual time labels:"
   ]
  },
  {
   "cell_type": "code",
   "execution_count": null,
   "metadata": {},
   "outputs": [],
   "source": [
    "morning_hours = ['6 AM', '7 AM', '8 AM', '9 AM', '10 AM']\n",
    "morning_rentals = pd.Series([23, 67, 156, 89, 45], index=morning_hours)\n",
    "print(morning_rentals)"
   ]
  },
  {
   "cell_type": "markdown",
   "metadata": {},
   "source": [
    "Now your Series has meaningful labels that make business sense. When you show this to your client, they can immediately understand that 8 AM has the highest rental count (156 bikes), which aligns with morning commute patterns."
   ]
  },
  {
   "cell_type": "markdown",
   "metadata": {},
   "source": [
    "### Why Series Matter for Your Consulting Work\n",
    "\n",
    "Series are more than just lists - they're intelligent containers that:\n",
    "- Keep related information together (values and their meanings)\n",
    "- Enable mathematical operations (calculating averages, totals, trends)\n",
    "- Support easy filtering and selection (finding peak hours, low-demand periods)\n",
    "- Integrate seamlessly with business reporting tools\n",
    "\n",
    "For transportation consulting, Series help you organize time-based patterns, station-specific metrics, and categorical data like weather conditions or user types."
   ]
  },
  {
   "cell_type": "markdown",
   "metadata": {},
   "source": [
    "## 4. DataFrame: Your Complete Data Laboratory"
   ]
  },
  {
   "cell_type": "markdown",
   "metadata": {},
   "source": [
    "### Understanding DataFrames as Digital Spreadsheets\n",
    "\n",
    "If Series are like single columns, DataFrames are like complete spreadsheets with multiple columns and rows. For your bike-sharing client, a DataFrame would contain all the information about each rental period: time, weather, bike counts, user types, and more.\n",
    "\n",
    "Think of a DataFrame as a comprehensive record where each row represents one time period (like one hour) and each column represents one type of measurement (like temperature, humidity, bike count)."
   ]
  },
  {
   "cell_type": "markdown",
   "metadata": {},
   "source": [
    "### Creating Your First Transportation DataFrame\n",
    "\n",
    "Let's build a small DataFrame that represents what your client's data looks like:"
   ]
  },
  {
   "cell_type": "code",
   "execution_count": null,
   "metadata": {},
   "outputs": [],
   "source": [
    "bike_data = pd.DataFrame({\n",
    "    'hour': ['6 AM', '7 AM', '8 AM', '9 AM'],\n",
    "    'temperature': [45, 47, 52, 55],\n",
    "    'rentals': [23, 67, 156, 89],\n",
    "    'weather': ['Clear', 'Clear', 'Partly Cloudy', 'Clear']\n",
    "})\n",
    "print(bike_data)"
   ]
  },
  {
   "cell_type": "markdown",
   "metadata": {},
   "source": [
    "This creates a structured table where:\n",
    "- Each row represents one hour of operations\n",
    "- Each column represents one type of measurement\n",
    "- The data types can be mixed (text, numbers) within the same DataFrame\n",
    "- All related information stays connected"
   ]
  },
  {
   "cell_type": "markdown",
   "metadata": {},
   "source": [
    "### DataFrame Components and Business Value\n",
    "\n",
    "Every DataFrame has key components that make it powerful for business analysis:\n",
    "\n",
    "**Columns**: Each variable you're tracking (temperature, rentals, weather conditions). These become the factors you'll analyze to understand demand patterns.\n",
    "\n",
    "**Rows**: Each observation or time period. In transportation, this is usually time-based (hourly, daily) but could be trip-based or station-based.\n",
    "\n",
    "**Index**: The row identifiers. By default, these are numbers (0, 1, 2), but you can use dates, station IDs, or other meaningful identifiers.\n",
    "\n",
    "**Values**: The actual data inside the table. This is the business information you'll analyze to generate insights and predictions."
   ]
  },
  {
   "cell_type": "markdown",
   "metadata": {},
   "source": [
    "### Advanced DataFrame Understanding for Professional Work\n",
    "\n",
    "DataFrames are not just storage containers - they're analysis platforms. When you create a DataFrame for your client's bike-sharing data, you're creating a foundation for:\n",
    "\n",
    "**Trend Analysis**: Comparing bike rentals across different time periods to identify peak and off-peak patterns that inform station stocking decisions.\n",
    "\n",
    "**Correlation Discovery**: Understanding relationships between weather conditions and demand to improve demand forecasting accuracy.\n",
    "\n",
    "**Operational Insights**: Identifying patterns that help optimize bike redistribution, maintenance scheduling, and capacity planning.\n",
    "\n",
    "**Business Reporting**: Creating summaries and visualizations that communicate findings to non-technical stakeholders in your client's organization."
   ]
  },
  {
   "cell_type": "markdown",
   "metadata": {},
   "source": [
    "## 5. Loading Real-World Data: Working with the Washington D.C. Dataset"
   ]
  },
  {
   "cell_type": "markdown",
   "metadata": {},
   "source": [
    "### Understanding Your Client's Data Source\n",
    "\n",
    "Your bike-sharing startup client has provided you with historical data from the Washington D.C. bike-sharing system. This real-world dataset contains all the complexities you'll encounter in professional consulting: multiple variables, different data types, time series information, and the messiness of actual operations.\n",
    "\n",
    "The dataset includes:\n",
    "- **Temporal Information**: Date and time of each rental period\n",
    "- **Weather Data**: Temperature, humidity, wind speed, and weather conditions\n",
    "- **Usage Metrics**: Casual users, registered users, and total counts\n",
    "- **Operational Context**: Holiday indicators, working day flags, and seasonal information"
   ]
  },
  {
   "cell_type": "markdown",
   "metadata": {},
   "source": [
    "### The Data Loading Process\n",
    "\n",
    "Loading data from files is a fundamental consulting skill. Your client's data is stored in CSV (Comma-Separated Values) format, which is the standard for sharing tabular data between systems:"
   ]
  },
  {
   "cell_type": "code",
   "execution_count": null,
   "metadata": {},
   "outputs": [],
   "source": [
    "# Define the path to your data file\n",
    "data_path = \"references/datasets/washington/dataset.csv\"\n",
    "\n",
    "# Load the data into a DataFrame\n",
    "df = pd.read_csv(data_path)\n",
    "\n",
    "# Display basic information about your dataset\n",
    "print(df.head())"
   ]
  },
  {
   "cell_type": "markdown",
   "metadata": {},
   "source": [
    "The `pd.read_csv()` function is incredibly powerful and handles many complexities automatically:\n",
    "- Automatically detects column headers\n",
    "- Infers appropriate data types for each column\n",
    "- Handles different types of missing data representations\n",
    "- Manages various CSV formatting conventions"
   ]
  },
  {
   "cell_type": "markdown",
   "metadata": {},
   "source": [
    "### Professional Data Inspection Techniques\n",
    "\n",
    "Once you've loaded the data, professional practice requires systematic inspection to understand what you're working with. This isn't just technical due diligence - it's essential for providing accurate consulting advice:\n",
    "\n",
    "**Dataset Shape and Size**:"
   ]
  },
  {
   "cell_type": "code",
   "execution_count": null,
   "metadata": {},
   "outputs": [],
   "source": [
    "print(f\"Dataset contains {df.shape[0]} rows and {df.shape[1]} columns\")"
   ]
  },
  {
   "cell_type": "markdown",
   "metadata": {},
   "source": [
    "This tells your client how much historical data they have available for analysis, which affects the reliability of predictions you can make.\n",
    "\n",
    "**Column Information and Data Types**:"
   ]
  },
  {
   "cell_type": "code",
   "execution_count": null,
   "metadata": {},
   "outputs": [],
   "source": [
    "print(df.info())"
   ]
  },
  {
   "cell_type": "markdown",
   "metadata": {},
   "source": [
    "Understanding data types is crucial for choosing appropriate analysis techniques and identifying potential data quality issues.\n",
    "\n",
    "**Statistical Summary**:"
   ]
  },
  {
   "cell_type": "code",
   "execution_count": null,
   "metadata": {},
   "outputs": [],
   "source": [
    "print(df.describe())"
   ]
  },
  {
   "cell_type": "markdown",
   "metadata": {},
   "source": [
    "This provides initial insights into data ranges, which helps identify outliers and validates that the data makes business sense."
   ]
  },
  {
   "cell_type": "markdown",
   "metadata": {},
   "source": [
    "### Connecting Data Structure to Business Questions\n",
    "\n",
    "Every column in your DataFrame corresponds to a potential business insight:\n",
    "\n",
    "**Datetime Column**: Enables time-based analysis to identify peak usage periods, seasonal trends, and operational patterns that inform staffing and inventory decisions.\n",
    "\n",
    "**Weather Variables**: Allow demand forecasting based on weather predictions, helping optimize bike availability before weather changes.\n",
    "\n",
    "**User Type Segmentation**: Casual vs. registered users have different usage patterns, enabling targeted service improvements and pricing strategies.\n",
    "\n",
    "**Count Variables**: The target variable you'll eventually predict, representing the business outcome your client cares most about.\n",
    "\n",
    "Understanding these connections transforms technical data loading into strategic business preparation."
   ]
  },
  {
   "cell_type": "markdown",
   "metadata": {},
   "source": [
    "## 6. Essential DataFrame Operations for Transportation Analysis"
   ]
  },
  {
   "cell_type": "markdown",
   "metadata": {},
   "source": [
    "### Data Selection: Finding What Matters to Your Client\n",
    "\n",
    "Professional data analysis requires the ability to extract specific information that answers business questions. Pandas provides multiple ways to select data, each appropriate for different consulting scenarios:\n",
    "\n",
    "**Column Selection for Focused Analysis**:"
   ]
  },
  {
   "cell_type": "code",
   "execution_count": null,
   "metadata": {},
   "outputs": [],
   "source": [
    "# Select single variable for trend analysis\n",
    "bike_counts = df['count']\n",
    "\n",
    "# Select multiple related variables for weather impact analysis\n",
    "weather_data = df[['temp', 'humidity', 'windspeed', 'count']]"
   ]
  },
  {
   "cell_type": "markdown",
   "metadata": {},
   "source": [
    "**Row Selection for Time-Based Analysis**:"
   ]
  },
  {
   "cell_type": "code",
   "execution_count": null,
   "metadata": {},
   "outputs": [],
   "source": [
    "# First 100 hours of operations\n",
    "early_operations = df.head(100)\n",
    "\n",
    "# Specific time period for seasonal analysis\n",
    "january_data = df.iloc[0:744]  # First month (24 hours × 31 days)"
   ]
  },
  {
   "cell_type": "markdown",
   "metadata": {},
   "source": [
    "**Conditional Selection for Business Intelligence**:"
   ]
  },
  {
   "cell_type": "code",
   "execution_count": null,
   "metadata": {},
   "outputs": [],
   "source": [
    "# High-demand periods (above average usage)\n",
    "peak_usage = df[df['count'] > df['count'].mean()]\n",
    "\n",
    "# Weather-specific analysis\n",
    "rainy_days = df[df['weather'] == 3]  # Weather code 3 represents rain"
   ]
  },
  {
   "cell_type": "markdown",
   "metadata": {},
   "source": [
    "### Data Inspection for Quality Assurance\n",
    "\n",
    "Before conducting any analysis for your client, professional practice requires validating data quality. This protects both your reputation and your client's business decisions:\n",
    "\n",
    "**Missing Data Detection**:"
   ]
  },
  {
   "cell_type": "code",
   "execution_count": null,
   "metadata": {},
   "outputs": [],
   "source": [
    "# Count missing values in each column\n",
    "missing_summary = df.isnull().sum()\n",
    "print(missing_summary)"
   ]
  },
  {
   "cell_type": "markdown",
   "metadata": {},
   "source": [
    "**Value Range Validation**:"
   ]
  },
  {
   "cell_type": "code",
   "execution_count": null,
   "metadata": {},
   "outputs": [],
   "source": [
    "# Check if bike counts fall within reasonable ranges\n",
    "print(f\"Bike count range: {df['count'].min()} to {df['count'].max()}\")\n",
    "print(f\"Temperature range: {df['temp'].min()} to {df['temp'].max()}\")"
   ]
  },
  {
   "cell_type": "markdown",
   "metadata": {},
   "source": [
    "**Data Distribution Understanding**:"
   ]
  },
  {
   "cell_type": "code",
   "execution_count": null,
   "metadata": {},
   "outputs": [],
   "source": [
    "# Statistical summary for key business metrics\n",
    "print(df[['temp', 'humidity', 'count']].describe())"
   ]
  },
  {
   "cell_type": "markdown",
   "metadata": {},
   "source": [
    "### Connecting Operations to Business Outcomes\n",
    "\n",
    "Each pandas operation you learn serves a specific business purpose:\n",
    "\n",
    "**Selection Operations**: Enable focused analysis on specific aspects of the business (weather sensitivity, user behavior, temporal patterns) that directly inform strategic decisions.\n",
    "\n",
    "**Inspection Operations**: Ensure data reliability, which builds client confidence and prevents costly mistakes based on flawed information.\n",
    "\n",
    "**Summary Operations**: Provide the statistical foundation for making data-driven recommendations about operations, pricing, and strategic investments.\n",
    "\n",
    "Mastering these fundamental operations creates the foundation for all advanced analysis you'll perform as a transportation consultant."
   ]
  },
  {
   "cell_type": "markdown",
   "metadata": {},
   "source": [
    "## 7. Data Types and Their Business Implications"
   ]
  },
  {
   "cell_type": "markdown",
   "metadata": {},
   "source": [
    "### Understanding Data Types in Transportation Context\n",
    "\n",
    "Not all data is created equal, and understanding the different types of information in your dataset directly affects the analysis techniques you can apply and the business insights you can generate.\n",
    "\n",
    "**Numerical Data**: Information that can be measured or counted\n",
    "- **Continuous**: Temperature, humidity, wind speed (can take any value within a range)\n",
    "- **Discrete**: Bike counts, user counts (whole numbers only)\n",
    "\n",
    "**Categorical Data**: Information that represents categories or groups\n",
    "- **Nominal**: Weather conditions, season (no natural order)\n",
    "- **Ordinal**: Weather severity codes (1=Clear, 2=Misty, 3=Light Rain, 4=Heavy Rain)\n",
    "\n",
    "**Temporal Data**: Time-based information that enables trend analysis and forecasting"
   ]
  },
  {
   "cell_type": "markdown",
   "metadata": {},
   "source": [
    "### Data Type Impact on Analysis Capabilities\n",
    "\n",
    "Different data types enable different types of business analysis:\n",
    "\n",
    "**Numerical Data Analysis**:\n",
    "- Calculate averages, trends, and correlations\n",
    "- Build predictive models for demand forecasting\n",
    "- Identify optimal operating ranges (temperature ranges with highest demand)\n",
    "\n",
    "**Categorical Data Analysis**:\n",
    "- Compare performance across different conditions (sunny vs. rainy days)\n",
    "- Segment users and customize services\n",
    "- Identify operational factors that influence demand\n",
    "\n",
    "**Temporal Data Analysis**:\n",
    "- Forecast future demand based on historical patterns\n",
    "- Identify seasonal trends for capacity planning\n",
    "- Optimize maintenance and rebalancing schedules\n",
    "\n",
    "Understanding these capabilities helps you choose the right analysis approach for each business question your client presents."
   ]
  },
  {
   "cell_type": "markdown",
   "metadata": {},
   "source": [
    "### Data Type Conversion for Enhanced Analysis\n",
    "\n",
    "Sometimes you need to convert between data types to enable more sophisticated analysis:"
   ]
  },
  {
   "cell_type": "code",
   "execution_count": null,
   "metadata": {},
   "outputs": [],
   "source": [
    "# Convert datetime strings to actual datetime objects for time-based analysis\n",
    "df['datetime'] = pd.to_datetime(df['datetime'])\n",
    "\n",
    "# Extract useful time components for business analysis\n",
    "df['hour'] = df['datetime'].dt.hour\n",
    "df['day_of_week'] = df['datetime'].dt.day_name()\n",
    "df['month'] = df['datetime'].dt.month"
   ]
  },
  {
   "cell_type": "markdown",
   "metadata": {},
   "source": [
    "These conversions enable more sophisticated business questions:\n",
    "- Which hours of the day have highest demand?\n",
    "- Do weekends show different patterns than weekdays?\n",
    "- How does seasonal variation affect monthly revenue?"
   ]
  },
  {
   "cell_type": "markdown",
   "metadata": {},
   "source": [
    "---"
   ]
  },
  {
   "cell_type": "markdown",
   "metadata": {},
   "source": [
    "## Summary and Transition to Data Quality Implementation\n",
    "\n",
    "Your mastery of pandas fundamentals establishes the technical foundation essential for professional transportation consulting. Understanding Series and DataFrame structures, data loading procedures, and professional workflow practices provides the analytical infrastructure necessary for sophisticated business applications.\n",
    "\n",
    "The pandas expertise you've developed transforms raw data files into structured analytical platforms. Your ability to load the Washington D.C. bike-sharing dataset, inspect data quality, and navigate DataFrame operations creates the operational foundation for all advanced analysis you'll perform as a transportation consultant.\n",
    "\n",
    "Professional pandas proficiency distinguishes competent data consultants who combine technical accuracy with business applications. Your expertise enables engagement with complex transportation datasets while maintaining analytical rigor essential for generating reliable business insights and strategic recommendations.\n",
    "\n",
    "Your next challenge involves implementing advanced data quality assessment and cleaning techniques that ensure analytical reliability. The data quality implementation will demonstrate how pandas fundamentals translate to working solutions that prepare messy real-world data for sophisticated business analysis.\n",
    "\n",
    "The integration of pandas mastery with data quality practices creates comprehensive data preparation capability essential for professional transportation consulting success. Your technical foundation combined with systematic data preparation expertise enables sophisticated business applications that drive strategic value creation and competitive advantage in urban mobility markets.\n",
    "\n",
    "The foundation you've built in this lecture - understanding pandas structures, loading real-world data, and applying professional practices - enables everything you'll accomplish as a transportation consultant. In our next lecture, we'll build on this foundation by learning how to clean and prepare messy real-world data for analysis, turning the raw information into reliable insights your clients can act upon."
   ]
  }
 ],
 "metadata": {
  "kernelspec": {
   "display_name": "Python 3",
   "language": "python",
   "name": "python3"
  },
  "language_info": {
   "codemirror_mode": {
    "name": "ipython",
    "version": 3
   },
   "file_extension": ".py",
   "mimetype": "text/x-python",
   "name": "python",
   "nbconvert_exporter": "python",
   "pygments_lexer": "ipython3",
   "version": "3.8.5"
  }
 },
 "nbformat": 4,
 "nbformat_minor": 4
}