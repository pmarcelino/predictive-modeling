{
 "cells": [
  {
   "cell_type": "markdown",
   "id": "e896ff63",
   "metadata": {},
   "source": [
    "# Lecture 7: Programming Example - Data Storytelling & Visualization"
   ]
  },
  {
   "cell_type": "markdown",
   "id": "7586cf9f",
   "metadata": {},
   "source": [
    "## Introduction: Mastering Data Storytelling Through Professional Visualization\n",
    "\n",
    "Welcome back, junior data consultant! Your Capital Bikes Washington D.C. client now possesses cleaned data, engineered features, and statistical insights - but numbers alone don't drive decisions. Today, you'll transform from statistical analyst to visual storyteller, mastering the professional visualization techniques that convert complex transportation patterns into compelling, stakeholder-ready analytical narratives.\n",
    "\n",
    "Think of data visualization as the consulting translator between mathematical analysis and executive action. While statistical tests quantify relationships, visualizations make those relationships instantly comprehensible to non-technical stakeholders. You'll master the fundamental chart types that professional consultants deploy daily: line plots for temporal patterns, bar charts for categorical comparisons, box plots for distribution analysis, histograms for frequency understanding, and scatter plots for relationship exploration.\n",
    "\n",
    "Your client is counting on you to transform your statistical discoveries into visual evidence that justifies million-dollar operational decisions. Every visualization you create serves a consulting purpose: answering specific business questions with clarity and precision that enables confident strategic action.\n",
    "\n",
    "> **🚀 Interactive Learning Alert**\n",
    ">\n",
    "> This is a hands-on visualization tutorial with simple examples and gradual building. For the best experience:\n",
    ">\n",
    "> - **Click \"Open in Colab\"** at the bottom to run code interactively\n",
    "> - **Execute each code cell** by pressing **Shift + Enter**\n",
    "> - **Complete the challenges** to practice your visualization skills\n",
    "> - **Think like a consultant** - clarity is more important than complexity\n",
    "\n",
    "---"
   ]
  },
  {
   "cell_type": "markdown",
   "id": "c15d9615",
   "metadata": {},
   "source": [
    "## Step 1: Creating Line Plots\n",
    "\n",
    "Let's start with the simplest and most useful plot for time-based data: the line plot. We'll show how bike demand changes throughout a typical day."
   ]
  },
  {
   "cell_type": "code",
   "execution_count": null,
   "id": "836ec088",
   "metadata": {},
   "outputs": [],
   "source": [
    "# Import the libraries we need\n",
    "import pandas as pd\n",
    "import matplotlib.pyplot as plt\n",
    "\n",
    "# Load the Washington D.C. bike-sharing dataset\n",
    "df = pd.read_csv(\"https://raw.githubusercontent.com/pmarcelino/predictive-modeling/main/datasets/dataset.csv\")\n",
    "\n",
    "# Extract the hour from datetime\n",
    "df['datetime'] = pd.to_datetime(df['datetime'])\n",
    "df['hour'] = df['datetime'].dt.hour\n",
    "\n",
    "# Calculate average demand for each hour (0-23)\n",
    "hourly_demand = df.groupby('hour')['count'].mean()\n",
    "\n",
    "# Create a basic line plot\n",
    "plt.plot(hourly_demand.index, hourly_demand.values)\n",
    "plt.xlabel('Hour of Day')\n",
    "plt.ylabel('Average Bike Rentals')\n",
    "plt.title('Daily Bike Demand Pattern')\n",
    "plt.show()\n",
    "\n",
    "print(f\"Peak hour: {hourly_demand.idxmax()}:00 with {hourly_demand.max():.0f} bikes\")"
   ]
  },
  {
   "cell_type": "markdown",
   "id": "d51679d1",
   "metadata": {},
   "source": [
    "**What this does:**\n",
    "- **Load and prepare**: Imports data and extracts hour from the datetime\n",
    "- **Calculate averages**: Groups all data by hour and calculates the mean demand\n",
    "- **Create line plot**: Uses `plt.plot()` to connect the 24 hourly points with a line\n",
    "- **Add labels**: Makes the plot understandable with axis labels and a title\n",
    "\n",
    "**Why a line plot?** Time flows continuously through the day, so connecting points with a line shows that natural flow. You can see the morning and evening rush hours as peaks."
   ]
  },
  {
   "cell_type": "markdown",
   "id": "a69cb573",
   "metadata": {},
   "source": [
    "### Multi-Line Comparison: The Power of Direct Comparison\n",
    "\n",
    "Now let's see something powerful: putting weekday and weekend patterns on the same plot. This lets you compare them directly without switching between charts."
   ]
  },
  {
   "cell_type": "code",
   "execution_count": null,
   "id": "bd2b3144",
   "metadata": {},
   "outputs": [],
   "source": [
    "# Import libraries and load data\n",
    "import pandas as pd\n",
    "import matplotlib.pyplot as plt\n",
    "\n",
    "# Load the dataset\n",
    "df = pd.read_csv(\"https://raw.githubusercontent.com/pmarcelino/predictive-modeling/main/datasets/dataset.csv\")\n",
    "df['datetime'] = pd.to_datetime(df['datetime'])\n",
    "df['hour'] = df['datetime'].dt.hour\n",
    "\n",
    "# Calculate averages for weekdays and weekends separately\n",
    "weekday_hourly = df[df['workingday'] == 1].groupby('hour')['count'].mean()\n",
    "weekend_hourly = df[df['workingday'] == 0].groupby('hour')['count'].mean()\n",
    "\n",
    "# Plot both lines on the same chart\n",
    "plt.plot(weekday_hourly.index, weekday_hourly.values, label='Weekday', marker='o')\n",
    "plt.plot(weekend_hourly.index, weekend_hourly.values, label='Weekend', marker='s')\n",
    "plt.xlabel('Hour of Day')\n",
    "plt.ylabel('Average Bike Rentals')\n",
    "plt.title('Weekday vs Weekend Demand Patterns')\n",
    "plt.legend()  # Shows which line is which\n",
    "plt.show()\n",
    "\n",
    "print(f\"Weekday peak: {weekday_hourly.max():.0f} bikes at hour {weekday_hourly.idxmax()}\")\n",
    "print(f\"Weekend peak: {weekend_hourly.max():.0f} bikes at hour {weekend_hourly.idxmax()}\")"
   ]
  },
  {
   "cell_type": "markdown",
   "id": "4480016a",
   "metadata": {},
   "source": [
    "**What this shows:**\n",
    "- **Two lines, one chart**: You can instantly see how the patterns differ\n",
    "- **Different markers**: 'o' for weekdays, 's' (square) for weekends helps distinguish them\n",
    "- **Legend**: The `plt.legend()` creates a box showing which line is which\n",
    "- **label parameter**: Each plot() gets a label='...' that appears in the legend\n",
    "\n",
    "**Why this is powerful:** Your client can immediately see that weekdays have two peaks (morning and evening rush hours) while weekends have one midday peak. This single chart tells a complete story about how usage patterns change.\n",
    "\n",
    "---"
   ]
  },
  {
   "cell_type": "markdown",
   "id": "37d1057b",
   "metadata": {},
   "source": [
    "### Challenge 1: Create a Line Plot for Weekend Patterns\n",
    "\n",
    "Your client asks: \"How does demand look on weekends?\" Create a line plot showing average hourly demand only for weekend days (Saturday and Sunday)."
   ]
  },
  {
   "cell_type": "code",
   "execution_count": null,
   "id": "5b7034ce",
   "metadata": {},
   "outputs": [],
   "source": [
    "# Import libraries and load data\n",
    "import pandas as pd\n",
    "import matplotlib.pyplot as plt\n",
    "\n",
    "# Load the dataset\n",
    "df = pd.read_csv(\"https://raw.githubusercontent.com/pmarcelino/predictive-modeling/main/datasets/dataset.csv\")\n",
    "df['datetime'] = pd.to_datetime(df['datetime'])\n",
    "df['hour'] = df['datetime'].dt.hour\n",
    "\n",
    "# Your code here - create weekend line plot\n",
    "df['dayofweek'] = df['datetime'].dt.dayofweek  # 0=Monday, 6=Sunday\n",
    "weekend_data = df[df['dayofweek'].isin([_____, _____])]  # Fill in: 5, 6 for Saturday, Sunday\n",
    "weekend_hourly = weekend_data.groupby('_____')['_____'].mean()  # Fill in: 'hour', 'count'\n",
    "\n",
    "plt.plot(weekend_hourly.index, weekend_hourly.values)\n",
    "plt.xlabel('Hour of Day')\n",
    "plt.ylabel('Average Bike Rentals')\n",
    "plt.title('Weekend Bike Demand Pattern')\n",
    "plt.show()"
   ]
  },
  {
   "cell_type": "markdown",
   "id": "91f7ba52",
   "metadata": {},
   "source": [
    "<details>\n",
    "<summary>💡 <strong>Tip</strong> (click to expand)</summary>\n",
    "\n",
    "\n",
    "Break this into three steps: First, extract the day of week using `.dt.dayofweek` (remember: 0=Monday, so weekends are 5 and 6). Second, filter the dataframe to keep only weekend days using `.isin([5, 6])`. Third, group by hour and calculate the mean just like in Step 1. Watch out: dayofweek starts at 0 (Monday), not 1, so Saturday=5 and Sunday=6. Your client will notice that weekend patterns look different from weekday patterns - probably a single midday peak instead of two rush hour peaks.\n",
    "\n",
    "</details>"
   ]
  },
  {
   "cell_type": "markdown",
   "id": "3088d488",
   "metadata": {},
   "source": [
    "<details>\n",
    "<summary>🤫 <strong>Solution</strong> (click to expand)</summary>\n",
    "\n",
    "```python\n",
    "# Import libraries and load data\n",
    "import pandas as pd\n",
    "import matplotlib.pyplot as plt\n",
    "\n",
    "# Load the dataset\n",
    "df = pd.read_csv(\"https://raw.githubusercontent.com/pmarcelino/predictive-modeling/main/datasets/dataset.csv\")\n",
    "df['datetime'] = pd.to_datetime(df['datetime'])\n",
    "df['hour'] = df['datetime'].dt.hour\n",
    "\n",
    "# Create weekend line plot\n",
    "df['dayofweek'] = df['datetime'].dt.dayofweek\n",
    "weekend_data = df[df['dayofweek'].isin([5, 6])]\n",
    "weekend_hourly = weekend_data.groupby('hour')['count'].mean()\n",
    "\n",
    "plt.plot(weekend_hourly.index, weekend_hourly.values)\n",
    "plt.xlabel('Hour of Day')\n",
    "plt.ylabel('Average Bike Rentals')\n",
    "plt.title('Weekend Bike Demand Pattern')\n",
    "plt.show()\n",
    "```\n",
    "\n",
    "</details>"
   ]
  },
  {
   "cell_type": "markdown",
   "id": "5d2fe9c0",
   "metadata": {},
   "source": [
    "---"
   ]
  },
  {
   "cell_type": "markdown",
   "id": "ccc5b8c1",
   "metadata": {},
   "source": [
    "## Step 2: Creating Bar Plots\n",
    "\n",
    "Now let's compare categories using a bar plot. We'll compare average demand between weekdays and weekends - perfect for seeing which type of day is busier."
   ]
  },
  {
   "cell_type": "code",
   "execution_count": null,
   "id": "62b6d90a",
   "metadata": {},
   "outputs": [],
   "source": [
    "# Import libraries and load data\n",
    "import pandas as pd\n",
    "import matplotlib.pyplot as plt\n",
    "\n",
    "# Load the dataset\n",
    "df = pd.read_csv(\"https://raw.githubusercontent.com/pmarcelino/predictive-modeling/main/datasets/dataset.csv\")\n",
    "df['datetime'] = pd.to_datetime(df['datetime'])\n",
    "\n",
    "# Calculate the average demand for weekdays vs weekends\n",
    "weekday_avg = df[df['workingday'] == 1]['count'].mean()\n",
    "weekend_avg = df[df['workingday'] == 0]['count'].mean()\n",
    "\n",
    "# Create lists for the bar plot\n",
    "categories = ['Weekday', 'Weekend']\n",
    "values = [weekday_avg, weekend_avg]\n",
    "\n",
    "# Create a bar plot\n",
    "plt.bar(categories, values)\n",
    "plt.xlabel('Day Type')\n",
    "plt.ylabel('Average Bike Rentals per Hour')\n",
    "plt.title('Weekday vs Weekend Demand')\n",
    "plt.show()\n",
    "\n",
    "print(f\"Weekday average: {weekday_avg:.0f} bikes per hour\")\n",
    "print(f\"Weekend average: {weekend_avg:.0f} bikes per hour\")"
   ]
  },
  {
   "cell_type": "markdown",
   "id": "c8271430",
   "metadata": {},
   "source": [
    "**What this does:**\n",
    "- **Calculate category averages**: Finds mean demand for weekdays (workingday=1) and weekends (workingday=0)\n",
    "- **Prepare data**: Creates simple lists of category names and their values\n",
    "- **Create bar plot**: Uses `plt.bar()` to draw bars where height represents the average\n",
    "- **Add labels**: Makes the comparison clear with axis labels\n",
    "\n",
    "**Why a bar plot?** When comparing distinct categories (weekday vs weekend), bars make it easy to see which is higher. The height difference shows the answer instantly.\n",
    "\n",
    "---"
   ]
  },
  {
   "cell_type": "markdown",
   "id": "8e9752ff",
   "metadata": {},
   "source": [
    "### Challenge 2: Create a Bar Plot Comparing All Four Seasons\n",
    "\n",
    "Your client wants to see: \"Which season has the highest bike demand?\" Create a bar plot comparing average demand across all four seasons."
   ]
  },
  {
   "cell_type": "code",
   "execution_count": null,
   "id": "c3a49098",
   "metadata": {},
   "outputs": [],
   "source": [
    "# Import libraries and load data\n",
    "import pandas as pd\n",
    "import matplotlib.pyplot as plt\n",
    "\n",
    "# Load the dataset\n",
    "df = pd.read_csv(\"https://raw.githubusercontent.com/pmarcelino/predictive-modeling/main/datasets/dataset.csv\")\n",
    "\n",
    "# Your code here - create seasonal comparison bar plot\n",
    "seasonal_avg = df.groupby('_____')['_____'].mean()  # Fill in: 'season', 'count'\n",
    "\n",
    "categories = ['Spring', 'Summer', 'Fall', 'Winter']\n",
    "values = seasonal_avg.values\n",
    "\n",
    "plt.bar(_____, _____)  # Fill in: categories, values\n",
    "plt.xlabel('Season')\n",
    "plt.ylabel('Average Bike Rentals per Hour')\n",
    "plt.title('Seasonal Bike Demand Comparison')\n",
    "plt.show()\n",
    "\n",
    "# Print the results\n",
    "for i, season in enumerate(categories):\n",
    "    print(f\"{season}: {values[i]:.0f} bikes per hour\")"
   ]
  },
  {
   "cell_type": "markdown",
   "id": "dc216fe1",
   "metadata": {},
   "source": [
    "<details>\n",
    "<summary>💡 <strong>Tip</strong> (click to expand)</summary>\n",
    "\n",
    "\n",
    "This is similar to the weekday/weekend comparison, but with four categories instead of two. Use `.groupby('season')` to calculate the average for each season (the dataset has season codes 1-4). The season codes map to: 1=Spring, 2=Summer, 3=Fall, 4=Winter. Remember to use `.mean()` after grouping to get averages. Watch out: the season values in the dataframe are numbers (1,2,3,4), but you want readable labels on your chart. Your client will likely see that summer has the highest demand (warm weather = more biking) and winter has the lowest (cold = fewer riders).\n",
    "\n",
    "</details>"
   ]
  },
  {
   "cell_type": "markdown",
   "id": "6851405e",
   "metadata": {},
   "source": [
    "<details>\n",
    "<summary>🤫 <strong>Solution</strong> (click to expand)</summary>\n",
    "\n",
    "```python\n",
    "# Import libraries and load data\n",
    "import pandas as pd\n",
    "import matplotlib.pyplot as plt\n",
    "\n",
    "# Load the dataset\n",
    "df = pd.read_csv(\"https://raw.githubusercontent.com/pmarcelino/predictive-modeling/main/datasets/dataset.csv\")\n",
    "\n",
    "# Create seasonal comparison bar plot\n",
    "seasonal_avg = df.groupby('season')['count'].mean()\n",
    "\n",
    "categories = ['Spring', 'Summer', 'Fall', 'Winter']\n",
    "values = seasonal_avg.values\n",
    "\n",
    "plt.bar(categories, values)\n",
    "plt.xlabel('Season')\n",
    "plt.ylabel('Average Bike Rentals per Hour')\n",
    "plt.title('Seasonal Bike Demand Comparison')\n",
    "plt.show()\n",
    "\n",
    "# Print the results\n",
    "for i, season in enumerate(categories):\n",
    "    print(f\"{season}: {values[i]:.0f} bikes per hour\")\n",
    "```\n",
    "\n",
    "</details>"
   ]
  },
  {
   "cell_type": "markdown",
   "id": "fffdc76a",
   "metadata": {},
   "source": [
    "---"
   ]
  },
  {
   "cell_type": "markdown",
   "id": "2f7f724b",
   "metadata": {},
   "source": [
    "## Step 3: Creating Box Plots (Understanding Distributions with Confidence)\n",
    "\n",
    "Before we dive into histograms, let's learn about box plots - a compact way to show how data is distributed across different categories. Box plots show you the \"middle 50%\" of your data and help you spot outliers."
   ]
  },
  {
   "cell_type": "code",
   "execution_count": null,
   "id": "6881bc45",
   "metadata": {},
   "outputs": [],
   "source": [
    "# Import libraries and load data\n",
    "import pandas as pd\n",
    "import matplotlib.pyplot as plt\n",
    "\n",
    "# Load the dataset\n",
    "df = pd.read_csv(\"https://raw.githubusercontent.com/pmarcelino/predictive-modeling/main/datasets/dataset.csv\")\n",
    "\n",
    "# Create box plot comparing weekday vs weekend demand\n",
    "weekday_data = df[df['workingday'] == 1]['count']\n",
    "weekend_data = df[df['workingday'] == 0]['count']\n",
    "\n",
    "plt.boxplot([weekday_data, weekend_data], labels=['Weekday', 'Weekend'])\n",
    "plt.ylabel('Bike Rentals per Hour')\n",
    "plt.title('Demand Distribution: Weekday vs Weekend')\n",
    "plt.show()\n",
    "\n",
    "# Print the quartiles\n",
    "print(\"Weekday demand:\")\n",
    "print(f\"  25th percentile: {weekday_data.quantile(0.25):.0f} bikes\")\n",
    "print(f\"  50th percentile (median): {weekday_data.quantile(0.50):.0f} bikes\")\n",
    "print(f\"  75th percentile: {weekday_data.quantile(0.75):.0f} bikes\")"
   ]
  },
  {
   "cell_type": "markdown",
   "id": "e25b4d85",
   "metadata": {},
   "source": [
    "**What this shows:**\n",
    "- **The box**: Shows the middle 50% of data (from 25th to 75th percentile)\n",
    "- **The line inside the box**: That's the median (50th percentile) - the middle value\n",
    "- **The whiskers**: The lines extending from the box show the typical range\n",
    "- **The dots**: Any dots beyond the whiskers are outliers - unusual values\n",
    "\n",
    "**Why use box plots?** They give you a complete picture of your data's spread in a compact format. You can quickly see if weekdays and weekends have similar ranges or if one is more variable than the other.\n",
    "\n",
    "**Understanding confidence with box plots:** The box shows you where you can be confident most data falls. If 50% of your data is between 40 and 280 bikes (the box), you can confidently plan operations for that range. The whiskers extend to show the typical minimum and maximum (excluding outliers), giving you the full operational range.\n",
    "\n",
    "Now let's see seasonal patterns with box plots:"
   ]
  },
  {
   "cell_type": "code",
   "execution_count": null,
   "id": "baf9bcf9",
   "metadata": {},
   "outputs": [],
   "source": [
    "# Import libraries and load data\n",
    "import pandas as pd\n",
    "import matplotlib.pyplot as plt\n",
    "\n",
    "# Load the dataset\n",
    "df = pd.read_csv(\"https://raw.githubusercontent.com/pmarcelino/predictive-modeling/main/datasets/dataset.csv\")\n",
    "\n",
    "# Create box plot for all four seasons\n",
    "season_data = [df[df['season'] == i]['count'] for i in [1, 2, 3, 4]]\n",
    "season_labels = ['Spring', 'Summer', 'Fall', 'Winter']\n",
    "\n",
    "plt.boxplot(season_data, labels=season_labels)\n",
    "plt.ylabel('Bike Rentals per Hour')\n",
    "plt.title('Demand Distribution by Season')\n",
    "plt.show()\n",
    "\n",
    "# Print insights\n",
    "for i, season in enumerate(season_labels, 1):\n",
    "    season_df = df[df['season'] == i]['count']\n",
    "    print(f\"{season}:\")\n",
    "    print(f\"  Median: {season_df.median():.0f} bikes\")\n",
    "    print(f\"  Middle 50% range: {season_df.quantile(0.25):.0f}-{season_df.quantile(0.75):.0f} bikes\")"
   ]
  },
  {
   "cell_type": "markdown",
   "id": "e7ca226d",
   "metadata": {},
   "source": [
    "**What this reveals:**\n",
    "- **Seasonal variation**: You can see at a glance which seasons have higher typical demand (higher boxes)\n",
    "- **Variability**: Wider boxes mean more variable demand - harder to predict\n",
    "- **Outliers**: More dots mean more unusual demand spikes in that season\n",
    "- **Confidence intervals**: The box gives you a confidence interval where 50% of observations fall - this helps your client plan capacity with confidence\n",
    "\n",
    "**Business insight:** If summer's box is much higher than winter's, your client knows they need seasonal staffing changes. If a season has many outliers (dots), they need surge capacity planning for that season.\n",
    "\n",
    "---"
   ]
  },
  {
   "cell_type": "markdown",
   "id": "03fc213d",
   "metadata": {},
   "source": [
    "## Step 4: Creating Histograms (Understanding Bins!)\n",
    "\n",
    "Histograms show how data is distributed - how often different values occur. The key concept here is **bins**: the ranges that group your data together."
   ]
  },
  {
   "cell_type": "code",
   "execution_count": null,
   "id": "15d087ff",
   "metadata": {},
   "outputs": [],
   "source": [
    "# Import libraries and load data\n",
    "import pandas as pd\n",
    "import matplotlib.pyplot as plt\n",
    "\n",
    "# Load the dataset\n",
    "df = pd.read_csv(\"https://raw.githubusercontent.com/pmarcelino/predictive-modeling/main/datasets/dataset.csv\")\n",
    "\n",
    "# Create a histogram with 20 bins\n",
    "plt.hist(df['count'], bins=20)\n",
    "plt.xlabel('Bike Rentals per Hour')\n",
    "plt.ylabel('Number of Hours')\n",
    "plt.title('Distribution of Hourly Bike Demand (20 bins)')\n",
    "plt.show()\n",
    "\n",
    "print(f\"Most common demand range: Look for the tallest bar\")\n",
    "print(f\"Total hours analyzed: {len(df)}\")"
   ]
  },
  {
   "cell_type": "markdown",
   "id": "5c166f8c",
   "metadata": {},
   "source": [
    "**What this does:**\n",
    "- **Create histogram**: Uses `plt.hist()` to divide the data into bins and count how many hours fall in each bin\n",
    "- **bins=20**: Divides the entire range of rentals (from min to max) into 20 equal-width bins\n",
    "- **Bar height**: Shows how many hours had demand in that bin's range\n",
    "\n",
    "**What are bins?** Think of bins like buckets. If demand ranges from 0-1000 bikes and you use 20 bins, each bin is 50 bikes wide (0-50, 50-100, 100-150, etc.). The histogram shows how many hours fall into each bucket.\n",
    "\n",
    "Let's see how changing bins affects the visualization:"
   ]
  },
  {
   "cell_type": "code",
   "execution_count": null,
   "id": "1c478be1",
   "metadata": {},
   "outputs": [],
   "source": [
    "# Import libraries and load data\n",
    "import pandas as pd\n",
    "import matplotlib.pyplot as plt\n",
    "\n",
    "# Load the dataset\n",
    "df = pd.read_csv(\"https://raw.githubusercontent.com/pmarcelino/predictive-modeling/main/datasets/dataset.csv\")\n",
    "\n",
    "# Compare different numbers of bins\n",
    "fig, axes = plt.subplots(1, 3, figsize=(15, 4))\n",
    "\n",
    "# 10 bins - broader groups\n",
    "axes[0].hist(df['count'], bins=10)\n",
    "axes[0].set_title('10 Bins (Broad View)')\n",
    "axes[0].set_xlabel('Bike Rentals')\n",
    "axes[0].set_ylabel('Frequency')\n",
    "\n",
    "# 20 bins - medium detail\n",
    "axes[1].hist(df['count'], bins=20)\n",
    "axes[1].set_title('20 Bins (Medium Detail)')\n",
    "axes[1].set_xlabel('Bike Rentals')\n",
    "axes[1].set_ylabel('Frequency')\n",
    "\n",
    "# 50 bins - fine detail\n",
    "axes[2].hist(df['count'], bins=50)\n",
    "axes[2].set_title('50 Bins (Fine Detail)')\n",
    "axes[2].set_xlabel('Bike Rentals')\n",
    "axes[2].set_ylabel('Frequency')\n",
    "\n",
    "plt.tight_layout()\n",
    "plt.show()"
   ]
  },
  {
   "cell_type": "markdown",
   "id": "d4c9d4b0",
   "metadata": {},
   "source": [
    "**What this shows:**\n",
    "- **Fewer bins (10)**: Broad overview, each bucket is wider, smoother pattern\n",
    "- **Medium bins (20)**: Good balance of detail and clarity\n",
    "- **More bins (50)**: Fine detail, each bucket is narrow, more jagged pattern\n",
    "\n",
    "**Choosing bins:** Start with 20-30 bins. Too few bins and you lose important detail. Too many bins and the pattern becomes hard to see.\n",
    "\n",
    "---"
   ]
  },
  {
   "cell_type": "markdown",
   "id": "d5054d6d",
   "metadata": {},
   "source": [
    "### Challenge 3: Create a Histogram of Temperature Distribution\n",
    "\n",
    "Your client asks: \"What temperatures do we experience in D.C.?\" Create a histogram showing the distribution of temperatures, then experiment with different numbers of bins."
   ]
  },
  {
   "cell_type": "code",
   "execution_count": null,
   "id": "022a3c74",
   "metadata": {},
   "outputs": [],
   "source": [
    "# Import libraries and load data\n",
    "import pandas as pd\n",
    "import matplotlib.pyplot as plt\n",
    "\n",
    "# Load the dataset\n",
    "df = pd.read_csv(\"https://raw.githubusercontent.com/pmarcelino/predictive-modeling/main/datasets/dataset.csv\")\n",
    "\n",
    "# Your code here - create temperature histogram\n",
    "plt.hist(df['_____'], bins=_____)  # Fill in: 'temp', and choose number of bins (try 25)\n",
    "plt.xlabel('Temperature (Celsius)')\n",
    "plt.ylabel('Number of Hours')\n",
    "plt.title('Distribution of D.C. Temperatures')\n",
    "plt.show()\n",
    "\n",
    "# Print some statistics\n",
    "print(f\"Average temperature: {df['temp'].mean():.1f}°C\")\n",
    "print(f\"Coldest hour: {df['temp'].min():.1f}°C\")\n",
    "print(f\"Warmest hour: {df['temp'].max():.1f}°C\")"
   ]
  },
  {
   "cell_type": "markdown",
   "id": "7fc07ded",
   "metadata": {},
   "source": [
    "<details>\n",
    "<summary>💡 <strong>Tip</strong> (click to expand)</summary>\n",
    "\n",
    "\n",
    "Use `plt.hist()` with the 'temp' column from the dataframe. Start with bins=25 to get good detail. Temperature in D.C. ranges roughly from -5°C to 40°C, so 25 bins means each bucket represents about 2 degrees. Try changing bins to 10, then 50 to see how it affects the visualization. You'll probably see that most hours cluster around moderate temperatures (15-25°C) with fewer very cold or very hot hours. This distribution helps your client understand what weather conditions to plan for.\n",
    "\n",
    "</details>"
   ]
  },
  {
   "cell_type": "markdown",
   "id": "1c29f544",
   "metadata": {},
   "source": [
    "<details>\n",
    "<summary>🤫 <strong>Solution</strong> (click to expand)</summary>\n",
    "\n",
    "```python\n",
    "# Import libraries and load data\n",
    "import pandas as pd\n",
    "import matplotlib.pyplot as plt\n",
    "\n",
    "# Load the dataset\n",
    "df = pd.read_csv(\"https://raw.githubusercontent.com/pmarcelino/predictive-modeling/main/datasets/dataset.csv\")\n",
    "\n",
    "# Create temperature histogram\n",
    "plt.hist(df['temp'], bins=25)\n",
    "plt.xlabel('Temperature (Celsius)')\n",
    "plt.ylabel('Number of Hours')\n",
    "plt.title('Distribution of D.C. Temperatures')\n",
    "plt.show()\n",
    "\n",
    "# Print some statistics\n",
    "print(f\"Average temperature: {df['temp'].mean():.1f}°C\")\n",
    "print(f\"Coldest hour: {df['temp'].min():.1f}°C\")\n",
    "print(f\"Warmest hour: {df['temp'].max():.1f}°C\")\n",
    "```\n",
    "\n",
    "</details>"
   ]
  },
  {
   "cell_type": "markdown",
   "id": "38e952a9",
   "metadata": {},
   "source": [
    "---"
   ]
  },
  {
   "cell_type": "markdown",
   "id": "d6c9845b",
   "metadata": {},
   "source": [
    "## Step 5: Creating Scatter Plots (with Trendlines!)\n",
    "\n",
    "Scatter plots show the relationship between two variables. Let's see how temperature affects bike demand, and add a trendline to see the overall pattern.\n",
    "\n",
    "First, let's create a basic scatter plot:"
   ]
  },
  {
   "cell_type": "code",
   "execution_count": null,
   "id": "94a3ca0b",
   "metadata": {},
   "outputs": [],
   "source": [
    "# Import libraries and load data\n",
    "import pandas as pd\n",
    "import matplotlib.pyplot as plt\n",
    "\n",
    "# Load the dataset\n",
    "df = pd.read_csv(\"https://raw.githubusercontent.com/pmarcelino/predictive-modeling/main/datasets/dataset.csv\")\n",
    "\n",
    "# Create a scatter plot\n",
    "plt.scatter(df['temp'], df['count'])\n",
    "plt.xlabel('Temperature (Celsius)')\n",
    "plt.ylabel('Bike Rentals per Hour')\n",
    "plt.title('Temperature vs Bike Demand')\n",
    "plt.show()"
   ]
  },
  {
   "cell_type": "markdown",
   "id": "c65e3f34",
   "metadata": {},
   "source": [
    "**What this does:**\n",
    "- **Create scatter plot**: Each point represents one hour - its x-position is temperature, y-position is demand\n",
    "- **Shows relationship**: You can see if higher temperatures generally have higher demand\n",
    "\n",
    "**Why a scatter plot?** When you have two continuous measurements (temperature and demand), scatter plots let you see if they're related. Do points go up together? That's a positive relationship.\n",
    "\n",
    "Now let's add a trendline to see the pattern more clearly:"
   ]
  },
  {
   "cell_type": "code",
   "execution_count": null,
   "id": "370f6670",
   "metadata": {},
   "outputs": [],
   "source": [
    "# Import libraries and load data\n",
    "import pandas as pd\n",
    "import matplotlib.pyplot as plt\n",
    "import numpy as np\n",
    "\n",
    "# Load the dataset\n",
    "df = pd.read_csv(\"https://raw.githubusercontent.com/pmarcelino/predictive-modeling/main/datasets/dataset.csv\")\n",
    "\n",
    "# Create a scatter plot\n",
    "plt.scatter(df['temp'], df['count'], alpha=0.5)\n",
    "\n",
    "# Add a trendline\n",
    "# Step 1: Calculate the line that best fits the data\n",
    "coefficients = np.polyfit(df['temp'], df['count'], 1)  # 1 means a straight line\n",
    "trendline = np.poly1d(coefficients)  # Creates a function for the line\n",
    "\n",
    "# Step 2: Create points along the line to plot it\n",
    "temp_range = np.linspace(df['temp'].min(), df['temp'].max(), 100)\n",
    "demand_trend = trendline(temp_range)\n",
    "\n",
    "# Step 3: Plot the trendline\n",
    "plt.plot(temp_range, demand_trend, color='red', linewidth=2, label='Trendline')\n",
    "\n",
    "plt.xlabel('Temperature (Celsius)')\n",
    "plt.ylabel('Bike Rentals per Hour')\n",
    "plt.title('Temperature vs Bike Demand (with Trendline)')\n",
    "plt.legend()\n",
    "plt.show()\n",
    "\n",
    "# Calculate and show correlation\n",
    "correlation = df['temp'].corr(df['count'])\n",
    "print(f\"Correlation: {correlation:.3f}\")\n",
    "print(f\"Interpretation: {'Positive' if correlation > 0 else 'Negative'} relationship\")"
   ]
  },
  {
   "cell_type": "markdown",
   "id": "408bbf2f",
   "metadata": {},
   "source": [
    "**What the trendline shows:**\n",
    "- **np.polyfit()**: Finds the best straight line through the scattered points\n",
    "- **Red line**: Shows the general trend - as temperature increases, demand generally increases\n",
    "- **Correlation**: A number between -1 and 1 showing how strong the relationship is\n",
    "  - Close to 1 = strong positive relationship (both go up together)\n",
    "  - Close to -1 = strong negative relationship (one up, other down)\n",
    "  - Close to 0 = weak relationship (not much pattern)\n",
    "\n",
    "**What are you seeing?** If the trendline slopes upward, warmer weather means more bike rentals. The correlation number confirms what your eyes see.\n",
    "\n",
    "---"
   ]
  },
  {
   "cell_type": "markdown",
   "id": "7a9cf086",
   "metadata": {},
   "source": [
    "### Challenge 4: Create a Scatter Plot with Trendline for Humidity\n",
    "\n",
    "Your client wonders: \"Does humidity affect bike demand?\" Create a scatter plot with a trendline showing the relationship between humidity and bike demand."
   ]
  },
  {
   "cell_type": "code",
   "execution_count": null,
   "id": "c1fa6133",
   "metadata": {},
   "outputs": [],
   "source": [
    "# Import libraries and load data\n",
    "import pandas as pd\n",
    "import matplotlib.pyplot as plt\n",
    "import numpy as np\n",
    "\n",
    "# Load the dataset\n",
    "df = pd.read_csv(\"https://raw.githubusercontent.com/pmarcelino/predictive-modeling/main/datasets/dataset.csv\")\n",
    "\n",
    "# Your code here - create humidity vs demand scatter plot with trendline\n",
    "# Step 1: Create scatter plot\n",
    "plt.scatter(df['_____'], df['_____'], alpha=0.5)  # Fill in: 'humidity', 'count'\n",
    "\n",
    "# Step 2: Calculate and plot trendline\n",
    "coefficients = np.polyfit(df['_____'], df['_____'], 1)  # Fill in: 'humidity', 'count'\n",
    "trendline = np.poly1d(coefficients)\n",
    "\n",
    "humidity_range = np.linspace(df['humidity']._____, df['humidity']._____, 100)  # Fill in: min(), max()\n",
    "demand_trend = trendline(humidity_range)\n",
    "\n",
    "plt.plot(humidity_range, demand_trend, color='red', linewidth=2, label='Trendline')\n",
    "\n",
    "plt.xlabel('Humidity (%)')\n",
    "plt.ylabel('Bike Rentals per Hour')\n",
    "plt.title('Humidity vs Bike Demand')\n",
    "plt.legend()\n",
    "plt.show()\n",
    "\n",
    "# Calculate correlation\n",
    "correlation = df['humidity'].corr(df['count'])\n",
    "print(f\"Correlation: {correlation:.3f}\")"
   ]
  },
  {
   "cell_type": "markdown",
   "id": "05c363de",
   "metadata": {},
   "source": [
    "<details>\n",
    "<summary>💡 <strong>Tip</strong> (click to expand)</summary>\n",
    "\n",
    "\n",
    "Follow the same pattern as the temperature example, but use 'humidity' instead of 'temp'. The steps are: (1) Create scatter plot with plt.scatter(), (2) Calculate trendline coefficients with np.polyfit(), (3) Create the trendline function with np.poly1d(), (4) Generate points along the line with np.linspace(), (5) Plot the line with plt.plot(). Use alpha=0.5 to make points slightly transparent so you can see overlapping points better. Watch out: humidity might have a negative correlation (higher humidity = fewer riders) because humid weather is uncomfortable. The trendline will slope downward if that's the case. This helps your client understand if they should consider humidity when planning bike availability.\n",
    "\n",
    "</details>"
   ]
  },
  {
   "cell_type": "markdown",
   "id": "82cf05ab",
   "metadata": {},
   "source": [
    "<details>\n",
    "<summary>🤫 <strong>Solution</strong> (click to expand)</summary>\n",
    "\n",
    "```python\n",
    "# Import libraries and load data\n",
    "import pandas as pd\n",
    "import matplotlib.pyplot as plt\n",
    "import numpy as np\n",
    "\n",
    "# Load the dataset\n",
    "df = pd.read_csv(\"https://raw.githubusercontent.com/pmarcelino/predictive-modeling/main/datasets/dataset.csv\")\n",
    "\n",
    "# Create humidity vs demand scatter plot with trendline\n",
    "# Step 1: Create scatter plot\n",
    "plt.scatter(df['humidity'], df['count'], alpha=0.5)\n",
    "\n",
    "# Step 2: Calculate and plot trendline\n",
    "coefficients = np.polyfit(df['humidity'], df['count'], 1)\n",
    "trendline = np.poly1d(coefficients)\n",
    "\n",
    "humidity_range = np.linspace(df['humidity'].min(), df['humidity'].max(), 100)\n",
    "demand_trend = trendline(humidity_range)\n",
    "\n",
    "plt.plot(humidity_range, demand_trend, color='red', linewidth=2, label='Trendline')\n",
    "\n",
    "plt.xlabel('Humidity (%)')\n",
    "plt.ylabel('Bike Rentals per Hour')\n",
    "plt.title('Humidity vs Bike Demand')\n",
    "plt.legend()\n",
    "plt.show()\n",
    "\n",
    "# Calculate correlation\n",
    "correlation = df['humidity'].corr(df['count'])\n",
    "print(f\"Correlation: {correlation:.3f}\")\n",
    "```\n",
    "\n",
    "</details>"
   ]
  },
  {
   "cell_type": "markdown",
   "id": "934f5516",
   "metadata": {},
   "source": [
    "---"
   ]
  },
  {
   "cell_type": "markdown",
   "id": "95a2cd45",
   "metadata": {},
   "source": [
    "## Summary: Professional Data Visualization and Communication Techniques\n",
    "\n",
    "**What We've Accomplished**:\n",
    "- Implemented comprehensive temporal visualization frameworks using matplotlib line plots to reveal hourly demand patterns, commuter behavior peaks, and weekday-weekend operational contrasts\n",
    "- Developed categorical comparison methodologies through bar chart construction for seasonal demand analysis, workday segmentation, and weather condition impact assessment\n",
    "- Established distribution analysis capabilities using box plot techniques to visualize demand variability, identify outliers, and communicate confidence intervals for capacity planning\n",
    "- Mastered frequency distribution visualization through histogram construction with strategic bin selection for temperature analysis, demand clustering, and operational threshold identification\n",
    "- Constructed sophisticated relationship visualization systems using scatter plots enhanced with trendline overlays, correlation coefficients, and numpy-based regression fitting\n",
    "- Applied multi-series plotting strategies for direct visual comparison of weekday versus weekend patterns on unified chart frameworks with professional legend integration\n",
    "- Engineered data aggregation pipelines using groupby operations and statistical summarization to prepare analysis-ready datasets for visualization workflows\n",
    "\n",
    "**Key Technical Skills Mastered**:\n",
    "- Core matplotlib visualization functions including plt.plot() for temporal series, plt.bar() for categorical comparisons, plt.boxplot() for distribution analysis, plt.hist() for frequency patterns, and plt.scatter() for relationship exploration\n",
    "- Advanced multi-line plotting architectures with legend() integration enabling side-by-side pattern comparison and stakeholder-friendly visual narratives\n",
    "- Professional chart customization methodologies through xlabel(), ylabel(), and title() functions ensuring clarity, accessibility, and business communication standards\n",
    "- Statistical visualization interpretation including quartile analysis, median identification, whisker range understanding, and outlier detection for data quality assessment\n",
    "- Distribution confidence interval concepts using box plot interquartile ranges to communicate operational planning zones and capacity requirement thresholds\n",
    "- Histogram bin optimization strategies balancing detail granularity against pattern clarity through systematic bin count experimentation and distribution shape analysis\n",
    "- Linear regression visualization through numpy polyfit() coefficient calculation and poly1d() function generation for trendline overlay and relationship strength communication\n",
    "- Correlation quantification using pandas .corr() methods to supplement visual analysis with numerical relationship strength metrics\n",
    "- Data preparation workflows combining groupby() aggregation, mean() calculation, and temporal feature extraction for visualization-ready dataset construction\n",
    "- Alpha transparency manipulation for scatter plot overlapping point visibility and enhanced pattern recognition in high-density visualizations\n",
    "\n",
    "**Next Steps**: Next, we'll advance to machine learning model development and predictive analytics implementation, leveraging your visualization capabilities to evaluate model performance through residual plots, learning curves, and prediction accuracy assessments. Your mastery of statistical visualization now enables sophisticated model diagnostics, hyperparameter optimization analysis, and stakeholder-ready performance reporting that transforms predictive modeling from black-box algorithms into transparent, explainable analytical systems.\n",
    "\n",
    "Your bike-sharing client now possesses professional-grade data visualization capabilities that transform raw statistical analysis into compelling visual narratives driving evidence-based operational decisions. You've mastered the fundamental visualization methodologies and communication techniques that consulting firms require for stakeholder presentations, executive briefings, and analytical report generation - demonstrating the visual storytelling expertise that separates professional transportation consultants from basic data analysts!"
   ]
  }
 ],
 "metadata": {},
 "nbformat": 4,
 "nbformat_minor": 5
}
